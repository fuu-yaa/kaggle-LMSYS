{
 "cells": [
  {
   "cell_type": "code",
   "execution_count": null,
   "id": "b1dad5da",
   "metadata": {
    "_kg_hide-input": false,
    "_kg_hide-output": true,
    "execution": {
     "iopub.execute_input": "2024-08-05T05:35:13.811248Z",
     "iopub.status.busy": "2024-08-05T05:35:13.810933Z",
     "iopub.status.idle": "2024-08-05T05:35:43.280392Z",
     "shell.execute_reply": "2024-08-05T05:35:43.279296Z"
    },
    "papermill": {
     "duration": 29.48422,
     "end_time": "2024-08-05T05:35:43.282852",
     "exception": false,
     "start_time": "2024-08-05T05:35:13.798632",
     "status": "completed"
    },
    "scrolled": true,
    "tags": []
   },
   "outputs": [],
   "source": [
    "!pip install transformers peft accelerate bitsandbytes \\\n",
    "    -U --no-index --find-links /kaggle/input/lmsys-wheel-files/lmsys"
   ]
  },
  {
   "cell_type": "code",
   "execution_count": 2,
   "id": "49a477fd",
   "metadata": {
    "execution": {
     "iopub.execute_input": "2024-08-05T05:35:43.311769Z",
     "iopub.status.busy": "2024-08-05T05:35:43.311451Z",
     "iopub.status.idle": "2024-08-05T05:36:01.619360Z",
     "shell.execute_reply": "2024-08-05T05:36:01.618394Z"
    },
    "papermill": {
     "duration": 18.324965,
     "end_time": "2024-08-05T05:36:01.622013",
     "exception": false,
     "start_time": "2024-08-05T05:35:43.297048",
     "status": "completed"
    },
    "tags": []
   },
   "outputs": [
    {
     "name": "stderr",
     "output_type": "stream",
     "text": [
      "2024-08-05 05:35:51.302430: E external/local_xla/xla/stream_executor/cuda/cuda_dnn.cc:9261] Unable to register cuDNN factory: Attempting to register factory for plugin cuDNN when one has already been registered\n",
      "2024-08-05 05:35:51.302535: E external/local_xla/xla/stream_executor/cuda/cuda_fft.cc:607] Unable to register cuFFT factory: Attempting to register factory for plugin cuFFT when one has already been registered\n",
      "2024-08-05 05:35:51.427175: E external/local_xla/xla/stream_executor/cuda/cuda_blas.cc:1515] Unable to register cuBLAS factory: Attempting to register factory for plugin cuBLAS when one has already been registered\n"
     ]
    }
   ],
   "source": [
    "import time\n",
    "from dataclasses import dataclass\n",
    "from concurrent.futures import ThreadPoolExecutor\n",
    "\n",
    "import json\n",
    "import unicodedata\n",
    "import torch\n",
    "import sklearn\n",
    "import numpy as np\n",
    "import pandas as pd\n",
    "from transformers import Gemma2ForSequenceClassification, GemmaTokenizerFast, BitsAndBytesConfig, AutoTokenizer\n",
    "from transformers.data.data_collator import pad_without_fast_tokenizer_warning\n",
    "from peft import PeftModel"
   ]
  },
  {
   "cell_type": "code",
   "execution_count": 3,
   "id": "a90b6f60",
   "metadata": {
    "execution": {
     "iopub.execute_input": "2024-08-05T05:36:01.651441Z",
     "iopub.status.busy": "2024-08-05T05:36:01.650577Z",
     "iopub.status.idle": "2024-08-05T05:36:01.682570Z",
     "shell.execute_reply": "2024-08-05T05:36:01.681875Z"
    },
    "papermill": {
     "duration": 0.048522,
     "end_time": "2024-08-05T05:36:01.684557",
     "exception": false,
     "start_time": "2024-08-05T05:36:01.636035",
     "status": "completed"
    },
    "tags": []
   },
   "outputs": [],
   "source": [
    "assert torch.cuda.device_count() == 2"
   ]
  },
  {
   "cell_type": "markdown",
   "id": "d07a923a",
   "metadata": {
    "papermill": {
     "duration": 0.013556,
     "end_time": "2024-08-05T05:36:01.712942",
     "exception": false,
     "start_time": "2024-08-05T05:36:01.699386",
     "status": "completed"
    },
    "tags": []
   },
   "source": [
    "## Configurations"
   ]
  },
  {
   "cell_type": "code",
   "execution_count": 4,
   "id": "d6f19b89",
   "metadata": {
    "execution": {
     "iopub.execute_input": "2024-08-05T05:36:01.741652Z",
     "iopub.status.busy": "2024-08-05T05:36:01.741024Z",
     "iopub.status.idle": "2024-08-05T05:36:01.746469Z",
     "shell.execute_reply": "2024-08-05T05:36:01.745474Z"
    },
    "papermill": {
     "duration": 0.021737,
     "end_time": "2024-08-05T05:36:01.748393",
     "exception": false,
     "start_time": "2024-08-05T05:36:01.726656",
     "status": "completed"
    },
    "tags": []
   },
   "outputs": [],
   "source": [
    "@dataclass\n",
    "class Config:\n",
    "    gemma_dir = '/kaggle/input/gemma-2-9b-hf'\n",
    "    lora_dir = '/kaggle/input/gemma2-finetuned-0716'\n",
    "    max_length = 2400\n",
    "    batch_size = 2\n",
    "    device = torch.device(\"cuda\")    \n",
    "    tta = False  # test time augmentation. <prompt>-<model-b's response>-<model-a's response>\n",
    "    spread_max_length = False  # whether to apply max_length//3 on each input or max_length on the concatenated input\n",
    "\n",
    "cfg = Config()"
   ]
  },
  {
   "cell_type": "markdown",
   "id": "fefdc958",
   "metadata": {
    "papermill": {
     "duration": 0.012797,
     "end_time": "2024-08-05T05:36:01.774250",
     "exception": false,
     "start_time": "2024-08-05T05:36:01.761453",
     "status": "completed"
    },
    "tags": []
   },
   "source": [
    "# Load & pre-process Data "
   ]
  },
  {
   "cell_type": "code",
   "execution_count": 5,
   "id": "ca202b13",
   "metadata": {
    "execution": {
     "iopub.execute_input": "2024-08-05T05:36:01.801073Z",
     "iopub.status.busy": "2024-08-05T05:36:01.800821Z",
     "iopub.status.idle": "2024-08-05T05:36:01.813375Z",
     "shell.execute_reply": "2024-08-05T05:36:01.812726Z"
    },
    "papermill": {
     "duration": 0.028058,
     "end_time": "2024-08-05T05:36:01.815149",
     "exception": false,
     "start_time": "2024-08-05T05:36:01.787091",
     "status": "completed"
    },
    "tags": []
   },
   "outputs": [],
   "source": [
    "test = pd.read_csv('/kaggle/input/lmsys-chatbot-arena/test.csv')"
   ]
  },
  {
   "cell_type": "code",
   "execution_count": 6,
   "id": "3dbe03b4",
   "metadata": {
    "execution": {
     "iopub.execute_input": "2024-08-05T05:36:01.842485Z",
     "iopub.status.busy": "2024-08-05T05:36:01.842236Z",
     "iopub.status.idle": "2024-08-05T05:36:01.865429Z",
     "shell.execute_reply": "2024-08-05T05:36:01.864465Z"
    },
    "papermill": {
     "duration": 0.039036,
     "end_time": "2024-08-05T05:36:01.867622",
     "exception": false,
     "start_time": "2024-08-05T05:36:01.828586",
     "status": "completed"
    },
    "tags": []
   },
   "outputs": [
    {
     "data": {
      "text/html": [
       "<div>\n",
       "<style scoped>\n",
       "    .dataframe tbody tr th:only-of-type {\n",
       "        vertical-align: middle;\n",
       "    }\n",
       "\n",
       "    .dataframe tbody tr th {\n",
       "        vertical-align: top;\n",
       "    }\n",
       "\n",
       "    .dataframe thead th {\n",
       "        text-align: right;\n",
       "    }\n",
       "</style>\n",
       "<table border=\"1\" class=\"dataframe\">\n",
       "  <thead>\n",
       "    <tr style=\"text-align: right;\">\n",
       "      <th></th>\n",
       "      <th>id</th>\n",
       "      <th>prompt</th>\n",
       "      <th>response_a</th>\n",
       "      <th>response_b</th>\n",
       "    </tr>\n",
       "  </thead>\n",
       "  <tbody>\n",
       "    <tr>\n",
       "      <th>0</th>\n",
       "      <td>136060</td>\n",
       "      <td>'I have three oranges today, I ate an orange y...</td>\n",
       "      <td>'You have two oranges today.'</td>\n",
       "      <td>'You still have three oranges. Eating an orang...</td>\n",
       "    </tr>\n",
       "    <tr>\n",
       "      <th>1</th>\n",
       "      <td>211333</td>\n",
       "      <td>\"You are a mediator in a heated political deba...</td>\n",
       "      <td>\"Thank you for sharing the details of the situ...</td>\n",
       "      <td>\"Mr Reddy and Ms Blue both have valid points i...</td>\n",
       "    </tr>\n",
       "    <tr>\n",
       "      <th>2</th>\n",
       "      <td>1233961</td>\n",
       "      <td>'How to initialize the classification head whe...</td>\n",
       "      <td>\"When you want to initialize the classificatio...</td>\n",
       "      <td>\"To initialize the classification head when pe...</td>\n",
       "    </tr>\n",
       "  </tbody>\n",
       "</table>\n",
       "</div>"
      ],
      "text/plain": [
       "        id                                             prompt  \\\n",
       "0   136060  'I have three oranges today, I ate an orange y...   \n",
       "1   211333  \"You are a mediator in a heated political deba...   \n",
       "2  1233961  'How to initialize the classification head whe...   \n",
       "\n",
       "                                          response_a  \\\n",
       "0                      'You have two oranges today.'   \n",
       "1  \"Thank you for sharing the details of the situ...   \n",
       "2  \"When you want to initialize the classificatio...   \n",
       "\n",
       "                                          response_b  \n",
       "0  'You still have three oranges. Eating an orang...  \n",
       "1  \"Mr Reddy and Ms Blue both have valid points i...  \n",
       "2  \"To initialize the classification head when pe...  "
      ]
     },
     "metadata": {},
     "output_type": "display_data"
    }
   ],
   "source": [
    "def process(text):\n",
    "    json_text = json.loads(text)\n",
    "    sentences = [\"\" if s is None else s for s in json_text]\n",
    "    sentences = [\"null\" if s == \"\" else s for s in sentences]\n",
    "    sentences = [repr(s) for s in sentences]\n",
    "    sentences = [unicodedata.normalize('NFKC', s) for s in sentences]\n",
    "    \n",
    "    return \" \".join(sentences) \n",
    "\n",
    "\n",
    "test.loc[:, 'prompt'] = test['prompt'].apply(process)\n",
    "test.loc[:, 'response_a'] = test['response_a'].apply(process)\n",
    "test.loc[:, 'response_b'] = test['response_b'].apply(process)\n",
    "\n",
    "display(test.head(5))"
   ]
  },
  {
   "cell_type": "code",
   "execution_count": 7,
   "id": "d7b9a7f6",
   "metadata": {
    "execution": {
     "iopub.execute_input": "2024-08-05T05:36:01.895821Z",
     "iopub.status.busy": "2024-08-05T05:36:01.895569Z",
     "iopub.status.idle": "2024-08-05T05:36:01.901829Z",
     "shell.execute_reply": "2024-08-05T05:36:01.901015Z"
    },
    "papermill": {
     "duration": 0.022461,
     "end_time": "2024-08-05T05:36:01.903865",
     "exception": false,
     "start_time": "2024-08-05T05:36:01.881404",
     "status": "completed"
    },
    "tags": []
   },
   "outputs": [
    {
     "name": "stdout",
     "output_type": "stream",
     "text": [
      "User prompt: 'I have three oranges today, I ate an orange yesterday. How many oranges do I have?'\n",
      "\n",
      "Model A :\n",
      "'You have two oranges today.'\n",
      "\n",
      "--------\n",
      "\n",
      "Model B:\n",
      "'You still have three oranges. Eating an orange yesterday does not affect the number of oranges you have today.'\n"
     ]
    }
   ],
   "source": [
    "# Prepare text for model\n",
    "test['text'] = 'User prompt: ' + test['prompt'] +  '\\n\\nModel A :\\n' + test['response_a'] +'\\n\\n--------\\n\\nModel B:\\n'  + test['response_b']\n",
    "print(test['text'][0])"
   ]
  },
  {
   "cell_type": "code",
   "execution_count": 8,
   "id": "b853401d",
   "metadata": {
    "execution": {
     "iopub.execute_input": "2024-08-05T05:36:01.931709Z",
     "iopub.status.busy": "2024-08-05T05:36:01.931450Z",
     "iopub.status.idle": "2024-08-05T05:36:03.010415Z",
     "shell.execute_reply": "2024-08-05T05:36:03.009263Z"
    },
    "papermill": {
     "duration": 1.095563,
     "end_time": "2024-08-05T05:36:03.012732",
     "exception": false,
     "start_time": "2024-08-05T05:36:01.917169",
     "status": "completed"
    },
    "tags": []
   },
   "outputs": [
    {
     "name": "stderr",
     "output_type": "stream",
     "text": [
      "0it [00:00, ?it/s]"
     ]
    },
    {
     "name": "stdout",
     "output_type": "stream",
     "text": [
      "text_preprocessed\n",
      "CPU times: user 758 ms, sys: 136 ms, total: 894 ms\n",
      "Wall time: 1.07 s\n"
     ]
    },
    {
     "name": "stderr",
     "output_type": "stream",
     "text": [
      "\n"
     ]
    }
   ],
   "source": [
    "%%time\n",
    "\n",
    "# tokenizer = GemmaTokenizerFast.from_pretrained(cfg.gemma_dir)\n",
    "tokenizer = AutoTokenizer.from_pretrained('/kaggle/input/gemma2-finetuned-0716/gemma-tokenizer')\n",
    "tokenizer.add_eos_token = True\n",
    "tokenizer.padding_side = \"right\"\n",
    "\n",
    "data = test.copy()\n",
    "\n",
    "# Utility function giving token length\n",
    "def get_token_lengths(texts):\n",
    "    # tokenize and receive input_ids for reach text\n",
    "    input_ids = tokenizer(texts.tolist(), return_tensors='np')['input_ids']\n",
    "    # return length of inputs_ids for each text\n",
    "    return [len(t) for t in input_ids]\n",
    "\n",
    "def get_inputs(texts):\n",
    "    # tokenize and receive input_ids for reach text\n",
    "    input_ids = tokenizer(texts.tolist(), return_tensors='np')['input_ids']\n",
    "    # return length of inputs_ids for each text\n",
    "    return input_ids\n",
    "\n",
    "prompt_inputs = get_inputs(data['prompt'])\n",
    "res_a_inputs = get_inputs(data['response_a'])\n",
    "res_b_inputs = get_inputs(data['response_b'])\n",
    "data['total_tokens'] = get_token_lengths(data['text'])\n",
    "\n",
    "\n",
    "#max_lengthを超える文章データのインデックスを取得\n",
    "indicies = data[data['total_tokens']>cfg.max_length].index\n",
    "\n",
    "#トークンを調整して、デコード処理、データフレームに調整した文章を戻す処理\n",
    "\n",
    "from tqdm import tqdm\n",
    "def assign_tokens(data, indicies, max_length):\n",
    "    \n",
    "    for ind in tqdm(indicies):\n",
    "        \n",
    "        len_p = len(prompt_inputs[ind])\n",
    "        len_a = len(res_a_inputs[ind])\n",
    "        len_b = len(res_b_inputs[ind])\n",
    "        total = len_p + len_a + len_b\n",
    "        \n",
    "        p_assign = int((len_p / total) * max_length)\n",
    "        a_assign = int((len_a / total) * max_length)\n",
    "        b_assign = max_length - (p_assign + a_assign)\n",
    "        \n",
    "        prompt_inputs[ind] = prompt_inputs[ind][:p_assign]\n",
    "        res_a_inputs[ind] = res_a_inputs[ind][:a_assign]\n",
    "        res_b_inputs[ind] = res_b_inputs[ind][:b_assign]\n",
    "        \n",
    "        # デコードしてデータに格納\n",
    "        data.loc[ind, 'prompt'] = tokenizer.decode(prompt_inputs[ind], skip_special_tokens=True)\n",
    "        data.loc[ind, 'response_a'] = tokenizer.decode(res_a_inputs[ind], skip_special_tokens=True)\n",
    "        data.loc[ind, 'response_b'] = tokenizer.decode(res_b_inputs[ind], skip_special_tokens=True)\n",
    "    \n",
    "    return data\n",
    "\n",
    "test = assign_tokens(data, indicies, cfg.max_length)\n",
    "print('text_preprocessed')\n",
    "\n",
    "# Prepare text for model\n",
    "\n",
    "del tokenizer, data"
   ]
  },
  {
   "cell_type": "code",
   "execution_count": 9,
   "id": "e519ea7b",
   "metadata": {
    "execution": {
     "iopub.execute_input": "2024-08-05T05:36:03.041717Z",
     "iopub.status.busy": "2024-08-05T05:36:03.041418Z",
     "iopub.status.idle": "2024-08-05T05:36:03.048405Z",
     "shell.execute_reply": "2024-08-05T05:36:03.047443Z"
    },
    "papermill": {
     "duration": 0.023931,
     "end_time": "2024-08-05T05:36:03.050660",
     "exception": false,
     "start_time": "2024-08-05T05:36:03.026729",
     "status": "completed"
    },
    "tags": []
   },
   "outputs": [
    {
     "data": {
      "text/plain": [
       "0    'I have three oranges today, I ate an orange y...\n",
       "1    \"You are a mediator in a heated political deba...\n",
       "2    'How to initialize the classification head whe...\n",
       "Name: prompt, dtype: object"
      ]
     },
     "execution_count": 9,
     "metadata": {},
     "output_type": "execute_result"
    }
   ],
   "source": [
    "test['prompt']"
   ]
  },
  {
   "cell_type": "markdown",
   "id": "c0cd789a",
   "metadata": {
    "papermill": {
     "duration": 0.013635,
     "end_time": "2024-08-05T05:36:03.078545",
     "exception": false,
     "start_time": "2024-08-05T05:36:03.064910",
     "status": "completed"
    },
    "tags": []
   },
   "source": [
    "# Tokenize"
   ]
  },
  {
   "cell_type": "code",
   "execution_count": 10,
   "id": "e738fbf5",
   "metadata": {
    "execution": {
     "iopub.execute_input": "2024-08-05T05:36:03.108485Z",
     "iopub.status.busy": "2024-08-05T05:36:03.107755Z",
     "iopub.status.idle": "2024-08-05T05:36:03.116453Z",
     "shell.execute_reply": "2024-08-05T05:36:03.115587Z"
    },
    "papermill": {
     "duration": 0.025969,
     "end_time": "2024-08-05T05:36:03.118482",
     "exception": false,
     "start_time": "2024-08-05T05:36:03.092513",
     "status": "completed"
    },
    "tags": []
   },
   "outputs": [],
   "source": [
    "def tokenize(\n",
    "    tokenizer, prompt, response_a, response_b, max_length=cfg.max_length, spread_max_length=cfg.spread_max_length\n",
    "):\n",
    "    prompt = [\"User prompt: \" + p for p in prompt]\n",
    "    response_a = [\"\\n\\nModel A :\\n\" + r_a for r_a in response_a]\n",
    "    response_b = [\"\\n\\n--------\\n\\nModel B:\\n\" + r_b for r_b in response_b]\n",
    "    if spread_max_length:\n",
    "        prompt = tokenizer(prompt, max_length=max_length//3, truncation=True, padding=False).input_ids\n",
    "        response_a = tokenizer(response_a, max_length=max_length//3, truncation=True, padding=False).input_ids\n",
    "        response_b = tokenizer(response_b, max_length=max_length//3, truncation=True, padding=False).input_ids\n",
    "        input_ids = [p + r_a + r_b for p, r_a, r_b in zip(prompt, response_a, response_b)]\n",
    "        attention_mask = [[1]* len(i) for i in input_ids]\n",
    "    else:\n",
    "        text = [p + r_a + r_b for p, r_a, r_b in zip(prompt, response_a, response_b)]\n",
    "        tokenized = tokenizer(text, max_length=max_length, truncation=True, padding=False)\n",
    "        input_ids = tokenized.input_ids\n",
    "        attention_mask = tokenized.attention_mask\n",
    "    return input_ids, attention_mask"
   ]
  },
  {
   "cell_type": "code",
   "execution_count": 11,
   "id": "668691fb",
   "metadata": {
    "execution": {
     "iopub.execute_input": "2024-08-05T05:36:03.149174Z",
     "iopub.status.busy": "2024-08-05T05:36:03.148837Z",
     "iopub.status.idle": "2024-08-05T05:36:03.946519Z",
     "shell.execute_reply": "2024-08-05T05:36:03.945198Z"
    },
    "papermill": {
     "duration": 0.815429,
     "end_time": "2024-08-05T05:36:03.948796",
     "exception": false,
     "start_time": "2024-08-05T05:36:03.133367",
     "status": "completed"
    },
    "tags": []
   },
   "outputs": [
    {
     "name": "stdout",
     "output_type": "stream",
     "text": [
      "CPU times: user 715 ms, sys: 75.8 ms, total: 791 ms\n",
      "Wall time: 790 ms\n"
     ]
    }
   ],
   "source": [
    "%%time\n",
    "\n",
    "tokenizer = GemmaTokenizerFast.from_pretrained('/kaggle/input/gemma2-finetuned-0716/gemma-tokenizer')\n",
    "tokenizer.add_eos_token = True\n",
    "tokenizer.padding_side = \"right\"\n",
    "\n",
    "data = pd.DataFrame()\n",
    "data[\"id\"] = test[\"id\"]\n",
    "data[\"input_ids\"], data[\"attention_mask\"] = tokenize(tokenizer, test[\"prompt\"], test[\"response_a\"], test[\"response_b\"])\n",
    "data[\"length\"] = data[\"input_ids\"].apply(len)\n",
    "\n",
    "aug_data = pd.DataFrame()\n",
    "aug_data[\"id\"] = test[\"id\"]\n",
    "# swap response_a & response_b\n",
    "aug_data['input_ids'], aug_data['attention_mask'] = tokenize(tokenizer, test[\"prompt\"], test[\"response_b\"], test[\"response_a\"])\n",
    "aug_data[\"length\"] = aug_data[\"input_ids\"].apply(len)"
   ]
  },
  {
   "cell_type": "code",
   "execution_count": null,
   "id": "ee9023b0",
   "metadata": {
    "execution": {
     "iopub.execute_input": "2024-08-05T05:36:03.989978Z",
     "iopub.status.busy": "2024-08-05T05:36:03.989634Z",
     "iopub.status.idle": "2024-08-05T05:36:03.994052Z",
     "shell.execute_reply": "2024-08-05T05:36:03.993023Z"
    },
    "papermill": {
     "duration": 0.02316,
     "end_time": "2024-08-05T05:36:03.996105",
     "exception": false,
     "start_time": "2024-08-05T05:36:03.972945",
     "status": "completed"
    },
    "tags": []
   },
   "outputs": [],
   "source": [
    "# augumentation（入れ替え）前と後の文章の確認\n",
    "\n",
    "# print(tokenizer.decode(data[\"input_ids\"][1],skip_special_tokens=True))\n",
    "# print(tokenizer.decode(aug_data[\"input_ids\"][0]))"
   ]
  },
  {
   "cell_type": "markdown",
   "id": "10e373ec",
   "metadata": {
    "papermill": {
     "duration": 0.013585,
     "end_time": "2024-08-05T05:36:04.062548",
     "exception": false,
     "start_time": "2024-08-05T05:36:04.048963",
     "status": "completed"
    },
    "tags": []
   },
   "source": [
    "# Load model"
   ]
  },
  {
   "cell_type": "code",
   "execution_count": null,
   "id": "04fc1a98",
   "metadata": {
    "execution": {
     "iopub.execute_input": "2024-08-05T05:36:04.091258Z",
     "iopub.status.busy": "2024-08-05T05:36:04.090949Z",
     "iopub.status.idle": "2024-08-05T05:38:12.415784Z",
     "shell.execute_reply": "2024-08-05T05:38:12.414829Z"
    },
    "papermill": {
     "duration": 128.341406,
     "end_time": "2024-08-05T05:38:12.417790",
     "exception": false,
     "start_time": "2024-08-05T05:36:04.076384",
     "status": "completed"
    },
    "tags": []
   },
   "outputs": [],
   "source": [
    "# BitsAndBytes configuration\n",
    "bnb_config =  BitsAndBytesConfig(\n",
    "    load_in_8bit=True,\n",
    "#     bnb_8bit_compute_dtype=torch.float16,\n",
    "#     bnb_8bit_use_double_quant=False\n",
    ")\n",
    "\n",
    "# Load base model on GPU 0\n",
    "device_0 = torch.device('cuda:0')\n",
    "model_0 = Gemma2ForSequenceClassification.from_pretrained(\n",
    "    cfg.gemma_dir,\n",
    "    device_map=device_0,\n",
    "    num_labels=3,\n",
    "    torch_dtype=torch.float16,\n",
    "    quantization_config=bnb_config,\n",
    "    use_cache=False,\n",
    ")\n",
    "\n",
    "model_0.config.pad_token_id = tokenizer.pad_token_id    #モデルのパディングidをトークナイザーとそろえる\n",
    "\n",
    "# Load base model on GPU 1\n",
    "device_1 = torch.device('cuda:1')\n",
    "model_1 = Gemma2ForSequenceClassification.from_pretrained(\n",
    "    cfg.gemma_dir,\n",
    "    device_map=device_1,\n",
    "    num_labels=3,\n",
    "    torch_dtype=torch.float16,\n",
    "    quantization_config=bnb_config,\n",
    "    use_cache=False,\n",
    ")\n",
    "\n",
    "model_1.config.pad_token_id = tokenizer.pad_token_id    #モデルのパディングidをトークナイザーとそろえる\n"
   ]
  },
  {
   "cell_type": "markdown",
   "id": "168919a9",
   "metadata": {
    "papermill": {
     "duration": 0.014178,
     "end_time": "2024-08-05T05:38:12.446755",
     "exception": false,
     "start_time": "2024-08-05T05:38:12.432577",
     "status": "completed"
    },
    "tags": []
   },
   "source": [
    "#### Load LoRA adapter"
   ]
  },
  {
   "cell_type": "code",
   "execution_count": 15,
   "id": "6329b901",
   "metadata": {
    "execution": {
     "iopub.execute_input": "2024-08-05T05:38:12.476380Z",
     "iopub.status.busy": "2024-08-05T05:38:12.476070Z",
     "iopub.status.idle": "2024-08-05T05:38:23.174657Z",
     "shell.execute_reply": "2024-08-05T05:38:23.173859Z"
    },
    "papermill": {
     "duration": 10.716129,
     "end_time": "2024-08-05T05:38:23.176991",
     "exception": false,
     "start_time": "2024-08-05T05:38:12.460862",
     "status": "completed"
    },
    "tags": []
   },
   "outputs": [],
   "source": [
    "model_0 = PeftModel.from_pretrained(model_0, cfg.lora_dir)\n",
    "model_1 = PeftModel.from_pretrained(model_1, cfg.lora_dir)"
   ]
  },
  {
   "cell_type": "markdown",
   "id": "e9ca4b56",
   "metadata": {
    "papermill": {
     "duration": 0.014665,
     "end_time": "2024-08-05T05:38:23.206457",
     "exception": false,
     "start_time": "2024-08-05T05:38:23.191792",
     "status": "completed"
    },
    "tags": []
   },
   "source": [
    "# Inference\n"
   ]
  },
  {
   "cell_type": "code",
   "execution_count": 16,
   "id": "b203badc",
   "metadata": {
    "execution": {
     "iopub.execute_input": "2024-08-05T05:38:23.236955Z",
     "iopub.status.busy": "2024-08-05T05:38:23.236630Z",
     "iopub.status.idle": "2024-08-05T05:38:23.246365Z",
     "shell.execute_reply": "2024-08-05T05:38:23.245510Z"
    },
    "papermill": {
     "duration": 0.027559,
     "end_time": "2024-08-05T05:38:23.248294",
     "exception": false,
     "start_time": "2024-08-05T05:38:23.220735",
     "status": "completed"
    },
    "tags": []
   },
   "outputs": [],
   "source": [
    "@torch.no_grad()\n",
    "@torch.cuda.amp.autocast()\n",
    "def inference(df, model, device, batch_size=cfg.batch_size, max_length=cfg.max_length):\n",
    "    a_win, b_win, tie = [], [], []\n",
    "    \n",
    "    for start_idx in range(0, len(df), batch_size):\n",
    "        end_idx = min(start_idx + batch_size, len(df))\n",
    "        tmp = df.iloc[start_idx:end_idx]\n",
    "        input_ids = tmp[\"input_ids\"].to_list()\n",
    "        attention_mask = tmp[\"attention_mask\"].to_list()\n",
    "        inputs = pad_without_fast_tokenizer_warning(\n",
    "            tokenizer,\n",
    "            {\"input_ids\": input_ids, \"attention_mask\": attention_mask},\n",
    "            padding=\"longest\",\n",
    "            pad_to_multiple_of=None,\n",
    "            return_tensors=\"pt\",\n",
    "        )\n",
    "        outputs = model(**inputs.to(device))\n",
    "        proba = outputs.logits.softmax(-1).cpu()\n",
    "        \n",
    "        a_win.extend(proba[:, 0].tolist())\n",
    "        b_win.extend(proba[:, 1].tolist())\n",
    "        tie.extend(proba[:, 2].tolist())\n",
    "    \n",
    "    df[\"winner_model_a\"] = a_win\n",
    "    df[\"winner_model_b\"] = b_win\n",
    "    df[\"winner_tie\"] = tie\n",
    "    \n",
    "    return df"
   ]
  },
  {
   "cell_type": "code",
   "execution_count": 17,
   "id": "94bf217b",
   "metadata": {
    "execution": {
     "iopub.execute_input": "2024-08-05T05:38:23.278546Z",
     "iopub.status.busy": "2024-08-05T05:38:23.278280Z",
     "iopub.status.idle": "2024-08-05T05:38:28.194094Z",
     "shell.execute_reply": "2024-08-05T05:38:28.193119Z"
    },
    "papermill": {
     "duration": 4.935132,
     "end_time": "2024-08-05T05:38:28.198020",
     "exception": false,
     "start_time": "2024-08-05T05:38:23.262888",
     "status": "completed"
    },
    "tags": []
   },
   "outputs": [
    {
     "name": "stdout",
     "output_type": "stream",
     "text": [
      "elapsed time: 4.9093921184539795\n"
     ]
    }
   ],
   "source": [
    "st = time.time()\n",
    "\n",
    "# sort by input length to fully leverage dynaminc padding\n",
    "data = data.sort_values(\"length\", ascending=False)\n",
    "# the total #tokens in sub_1 and sub_2 should be more or less the same\n",
    "sub_1 = data.iloc[0::2].copy()\n",
    "sub_2 = data.iloc[1::2].copy()\n",
    "\n",
    "with ThreadPoolExecutor(max_workers=2) as executor:\n",
    "    results = executor.map(inference, (sub_1, sub_2), (model_0, model_1), (device_0, device_1))\n",
    "\n",
    "result_df = pd.concat(list(results), axis=0)\n",
    "proba = result_df[[\"winner_model_a\", \"winner_model_b\", \"winner_tie\"]].values\n",
    "\n",
    "print(f\"elapsed time: {time.time() - st}\")"
   ]
  },
  {
   "cell_type": "code",
   "execution_count": 18,
   "id": "eeaf7a4e",
   "metadata": {
    "execution": {
     "iopub.execute_input": "2024-08-05T05:38:28.234001Z",
     "iopub.status.busy": "2024-08-05T05:38:28.233416Z",
     "iopub.status.idle": "2024-08-05T05:38:28.241335Z",
     "shell.execute_reply": "2024-08-05T05:38:28.240433Z"
    },
    "papermill": {
     "duration": 0.026476,
     "end_time": "2024-08-05T05:38:28.243397",
     "exception": false,
     "start_time": "2024-08-05T05:38:28.216921",
     "status": "completed"
    },
    "tags": []
   },
   "outputs": [
    {
     "name": "stdout",
     "output_type": "stream",
     "text": [
      "elapsed time: 0.0001900196075439453\n"
     ]
    }
   ],
   "source": [
    "st = time.time()\n",
    "\n",
    "if cfg.tta:\n",
    "    data = aug_data.sort_values(\"length\", ascending=False)  # sort by input length to boost speed\n",
    "    sub_1 = data.iloc[0::2].copy()\n",
    "    sub_2 = data.iloc[1::2].copy()\n",
    "\n",
    "    with ThreadPoolExecutor(max_workers=2) as executor:\n",
    "        results = executor.map(inference, (sub_1, sub_2), (model_0, model_1), (device_0, device_1))\n",
    "\n",
    "    tta_result_df = pd.concat(list(results), axis=0)\n",
    "    # recall TTA's order is flipped\n",
    "    tta_proba = tta_result_df[[\"winner_model_b\", \"winner_model_a\", \"winner_tie\"]].values \n",
    "    # average original result and TTA result.\n",
    "    proba = (proba + tta_proba) / 2\n",
    "\n",
    "print(f\"elapsed time: {time.time() - st}\")"
   ]
  },
  {
   "cell_type": "code",
   "execution_count": 19,
   "id": "a1f3c7bf",
   "metadata": {
    "execution": {
     "iopub.execute_input": "2024-08-05T05:38:28.273979Z",
     "iopub.status.busy": "2024-08-05T05:38:28.273506Z",
     "iopub.status.idle": "2024-08-05T05:38:28.293905Z",
     "shell.execute_reply": "2024-08-05T05:38:28.293041Z"
    },
    "papermill": {
     "duration": 0.037706,
     "end_time": "2024-08-05T05:38:28.295846",
     "exception": false,
     "start_time": "2024-08-05T05:38:28.258140",
     "status": "completed"
    },
    "tags": []
   },
   "outputs": [
    {
     "data": {
      "text/html": [
       "<div>\n",
       "<style scoped>\n",
       "    .dataframe tbody tr th:only-of-type {\n",
       "        vertical-align: middle;\n",
       "    }\n",
       "\n",
       "    .dataframe tbody tr th {\n",
       "        vertical-align: top;\n",
       "    }\n",
       "\n",
       "    .dataframe thead th {\n",
       "        text-align: right;\n",
       "    }\n",
       "</style>\n",
       "<table border=\"1\" class=\"dataframe\">\n",
       "  <thead>\n",
       "    <tr style=\"text-align: right;\">\n",
       "      <th></th>\n",
       "      <th>id</th>\n",
       "      <th>winner_model_a</th>\n",
       "      <th>winner_model_b</th>\n",
       "      <th>winner_tie</th>\n",
       "    </tr>\n",
       "  </thead>\n",
       "  <tbody>\n",
       "    <tr>\n",
       "      <th>2</th>\n",
       "      <td>1233961</td>\n",
       "      <td>0.103607</td>\n",
       "      <td>0.692299</td>\n",
       "      <td>0.204094</td>\n",
       "    </tr>\n",
       "    <tr>\n",
       "      <th>0</th>\n",
       "      <td>136060</td>\n",
       "      <td>0.002074</td>\n",
       "      <td>0.968699</td>\n",
       "      <td>0.029227</td>\n",
       "    </tr>\n",
       "    <tr>\n",
       "      <th>1</th>\n",
       "      <td>211333</td>\n",
       "      <td>0.239302</td>\n",
       "      <td>0.410234</td>\n",
       "      <td>0.350464</td>\n",
       "    </tr>\n",
       "  </tbody>\n",
       "</table>\n",
       "</div>"
      ],
      "text/plain": [
       "        id  winner_model_a  winner_model_b  winner_tie\n",
       "2  1233961        0.103607        0.692299    0.204094\n",
       "0   136060        0.002074        0.968699    0.029227\n",
       "1   211333        0.239302        0.410234    0.350464"
      ]
     },
     "metadata": {},
     "output_type": "display_data"
    }
   ],
   "source": [
    "result_df.loc[:, \"winner_model_a\"] = proba[:, 0]\n",
    "result_df.loc[:, \"winner_model_b\"] = proba[:, 1]\n",
    "result_df.loc[:, \"winner_tie\"] = proba[:, 2]\n",
    "submission_df = result_df[[\"id\", 'winner_model_a', 'winner_model_b', 'winner_tie']]\n",
    "submission_df.to_csv('submission.csv', index=False)\n",
    "display(submission_df)"
   ]
  },
  {
   "cell_type": "code",
   "execution_count": null,
   "id": "d14458e5",
   "metadata": {
    "papermill": {
     "duration": 0.0147,
     "end_time": "2024-08-05T05:38:28.325267",
     "exception": false,
     "start_time": "2024-08-05T05:38:28.310567",
     "status": "completed"
    },
    "tags": []
   },
   "outputs": [],
   "source": []
  }
 ],
 "metadata": {
  "kaggle": {
   "accelerator": "nvidiaTeslaT4",
   "dataSources": [
    {
     "databundleVersionId": 8346466,
     "sourceId": 66631,
     "sourceType": "competition"
    },
    {
     "datasetId": 5299906,
     "sourceId": 8811121,
     "sourceType": "datasetVersion"
    },
    {
     "datasetId": 5371191,
     "sourceId": 8929028,
     "sourceType": "datasetVersion"
    },
    {
     "datasetId": 5394875,
     "sourceId": 8962985,
     "sourceType": "datasetVersion"
    }
   ],
   "dockerImageVersionId": 30733,
   "isGpuEnabled": true,
   "isInternetEnabled": false,
   "language": "python",
   "sourceType": "notebook"
  },
  "kernelspec": {
   "display_name": "Python 3",
   "language": "python",
   "name": "python3"
  },
  "language_info": {
   "codemirror_mode": {
    "name": "ipython",
    "version": 3
   },
   "file_extension": ".py",
   "mimetype": "text/x-python",
   "name": "python",
   "nbconvert_exporter": "python",
   "pygments_lexer": "ipython3",
   "version": "3.10.13"
  },
  "papermill": {
   "default_parameters": {},
   "duration": 200.151416,
   "end_time": "2024-08-05T05:38:31.281736",
   "environment_variables": {},
   "exception": null,
   "input_path": "__notebook__.ipynb",
   "output_path": "__notebook__.ipynb",
   "parameters": {},
   "start_time": "2024-08-05T05:35:11.130320",
   "version": "2.5.0"
  },
  "widgets": {
   "application/vnd.jupyter.widget-state+json": {
    "state": {
     "023a571c77e34c0e9bc6b278e9c74c5a": {
      "model_module": "@jupyter-widgets/controls",
      "model_module_version": "1.5.0",
      "model_name": "DescriptionStyleModel",
      "state": {
       "_model_module": "@jupyter-widgets/controls",
       "_model_module_version": "1.5.0",
       "_model_name": "DescriptionStyleModel",
       "_view_count": null,
       "_view_module": "@jupyter-widgets/base",
       "_view_module_version": "1.2.0",
       "_view_name": "StyleView",
       "description_width": ""
      }
     },
     "1bcf62a6803145af90c1424ee1ad3484": {
      "model_module": "@jupyter-widgets/controls",
      "model_module_version": "1.5.0",
      "model_name": "FloatProgressModel",
      "state": {
       "_dom_classes": [],
       "_model_module": "@jupyter-widgets/controls",
       "_model_module_version": "1.5.0",
       "_model_name": "FloatProgressModel",
       "_view_count": null,
       "_view_module": "@jupyter-widgets/controls",
       "_view_module_version": "1.5.0",
       "_view_name": "ProgressView",
       "bar_style": "success",
       "description": "",
       "description_tooltip": null,
       "layout": "IPY_MODEL_39cc60a6d89e464b84876268c29b087a",
       "max": 4,
       "min": 0,
       "orientation": "horizontal",
       "style": "IPY_MODEL_3f8286fdb813424585274c48f3bc2e4d",
       "value": 4
      }
     },
     "20ade2dacb614e1ab9c319eb17856831": {
      "model_module": "@jupyter-widgets/base",
      "model_module_version": "1.2.0",
      "model_name": "LayoutModel",
      "state": {
       "_model_module": "@jupyter-widgets/base",
       "_model_module_version": "1.2.0",
       "_model_name": "LayoutModel",
       "_view_count": null,
       "_view_module": "@jupyter-widgets/base",
       "_view_module_version": "1.2.0",
       "_view_name": "LayoutView",
       "align_content": null,
       "align_items": null,
       "align_self": null,
       "border": null,
       "bottom": null,
       "display": null,
       "flex": null,
       "flex_flow": null,
       "grid_area": null,
       "grid_auto_columns": null,
       "grid_auto_flow": null,
       "grid_auto_rows": null,
       "grid_column": null,
       "grid_gap": null,
       "grid_row": null,
       "grid_template_areas": null,
       "grid_template_columns": null,
       "grid_template_rows": null,
       "height": null,
       "justify_content": null,
       "justify_items": null,
       "left": null,
       "margin": null,
       "max_height": null,
       "max_width": null,
       "min_height": null,
       "min_width": null,
       "object_fit": null,
       "object_position": null,
       "order": null,
       "overflow": null,
       "overflow_x": null,
       "overflow_y": null,
       "padding": null,
       "right": null,
       "top": null,
       "visibility": null,
       "width": null
      }
     },
     "237701cd2e814469a28df6dc834f9904": {
      "model_module": "@jupyter-widgets/controls",
      "model_module_version": "1.5.0",
      "model_name": "DescriptionStyleModel",
      "state": {
       "_model_module": "@jupyter-widgets/controls",
       "_model_module_version": "1.5.0",
       "_model_name": "DescriptionStyleModel",
       "_view_count": null,
       "_view_module": "@jupyter-widgets/base",
       "_view_module_version": "1.2.0",
       "_view_name": "StyleView",
       "description_width": ""
      }
     },
     "3592e7bda96e4e6ea9b631420a3e1351": {
      "model_module": "@jupyter-widgets/base",
      "model_module_version": "1.2.0",
      "model_name": "LayoutModel",
      "state": {
       "_model_module": "@jupyter-widgets/base",
       "_model_module_version": "1.2.0",
       "_model_name": "LayoutModel",
       "_view_count": null,
       "_view_module": "@jupyter-widgets/base",
       "_view_module_version": "1.2.0",
       "_view_name": "LayoutView",
       "align_content": null,
       "align_items": null,
       "align_self": null,
       "border": null,
       "bottom": null,
       "display": null,
       "flex": null,
       "flex_flow": null,
       "grid_area": null,
       "grid_auto_columns": null,
       "grid_auto_flow": null,
       "grid_auto_rows": null,
       "grid_column": null,
       "grid_gap": null,
       "grid_row": null,
       "grid_template_areas": null,
       "grid_template_columns": null,
       "grid_template_rows": null,
       "height": null,
       "justify_content": null,
       "justify_items": null,
       "left": null,
       "margin": null,
       "max_height": null,
       "max_width": null,
       "min_height": null,
       "min_width": null,
       "object_fit": null,
       "object_position": null,
       "order": null,
       "overflow": null,
       "overflow_x": null,
       "overflow_y": null,
       "padding": null,
       "right": null,
       "top": null,
       "visibility": null,
       "width": null
      }
     },
     "39cc60a6d89e464b84876268c29b087a": {
      "model_module": "@jupyter-widgets/base",
      "model_module_version": "1.2.0",
      "model_name": "LayoutModel",
      "state": {
       "_model_module": "@jupyter-widgets/base",
       "_model_module_version": "1.2.0",
       "_model_name": "LayoutModel",
       "_view_count": null,
       "_view_module": "@jupyter-widgets/base",
       "_view_module_version": "1.2.0",
       "_view_name": "LayoutView",
       "align_content": null,
       "align_items": null,
       "align_self": null,
       "border": null,
       "bottom": null,
       "display": null,
       "flex": null,
       "flex_flow": null,
       "grid_area": null,
       "grid_auto_columns": null,
       "grid_auto_flow": null,
       "grid_auto_rows": null,
       "grid_column": null,
       "grid_gap": null,
       "grid_row": null,
       "grid_template_areas": null,
       "grid_template_columns": null,
       "grid_template_rows": null,
       "height": null,
       "justify_content": null,
       "justify_items": null,
       "left": null,
       "margin": null,
       "max_height": null,
       "max_width": null,
       "min_height": null,
       "min_width": null,
       "object_fit": null,
       "object_position": null,
       "order": null,
       "overflow": null,
       "overflow_x": null,
       "overflow_y": null,
       "padding": null,
       "right": null,
       "top": null,
       "visibility": null,
       "width": null
      }
     },
     "3f8286fdb813424585274c48f3bc2e4d": {
      "model_module": "@jupyter-widgets/controls",
      "model_module_version": "1.5.0",
      "model_name": "ProgressStyleModel",
      "state": {
       "_model_module": "@jupyter-widgets/controls",
       "_model_module_version": "1.5.0",
       "_model_name": "ProgressStyleModel",
       "_view_count": null,
       "_view_module": "@jupyter-widgets/base",
       "_view_module_version": "1.2.0",
       "_view_name": "StyleView",
       "bar_color": null,
       "description_width": ""
      }
     },
     "57c2cb14032c4d8f94416b974892b46b": {
      "model_module": "@jupyter-widgets/base",
      "model_module_version": "1.2.0",
      "model_name": "LayoutModel",
      "state": {
       "_model_module": "@jupyter-widgets/base",
       "_model_module_version": "1.2.0",
       "_model_name": "LayoutModel",
       "_view_count": null,
       "_view_module": "@jupyter-widgets/base",
       "_view_module_version": "1.2.0",
       "_view_name": "LayoutView",
       "align_content": null,
       "align_items": null,
       "align_self": null,
       "border": null,
       "bottom": null,
       "display": null,
       "flex": null,
       "flex_flow": null,
       "grid_area": null,
       "grid_auto_columns": null,
       "grid_auto_flow": null,
       "grid_auto_rows": null,
       "grid_column": null,
       "grid_gap": null,
       "grid_row": null,
       "grid_template_areas": null,
       "grid_template_columns": null,
       "grid_template_rows": null,
       "height": null,
       "justify_content": null,
       "justify_items": null,
       "left": null,
       "margin": null,
       "max_height": null,
       "max_width": null,
       "min_height": null,
       "min_width": null,
       "object_fit": null,
       "object_position": null,
       "order": null,
       "overflow": null,
       "overflow_x": null,
       "overflow_y": null,
       "padding": null,
       "right": null,
       "top": null,
       "visibility": null,
       "width": null
      }
     },
     "5d56f25c6f5546569579b94e849a1f52": {
      "model_module": "@jupyter-widgets/controls",
      "model_module_version": "1.5.0",
      "model_name": "HBoxModel",
      "state": {
       "_dom_classes": [],
       "_model_module": "@jupyter-widgets/controls",
       "_model_module_version": "1.5.0",
       "_model_name": "HBoxModel",
       "_view_count": null,
       "_view_module": "@jupyter-widgets/controls",
       "_view_module_version": "1.5.0",
       "_view_name": "HBoxView",
       "box_style": "",
       "children": [
        "IPY_MODEL_9ba5ac6f011b491b988f2b616fa4b13f",
        "IPY_MODEL_7e77a3d4942f4fdeb8b97f269bedc990",
        "IPY_MODEL_e136ba60f4cd4c6ab585fc81a051aa8d"
       ],
       "layout": "IPY_MODEL_57c2cb14032c4d8f94416b974892b46b"
      }
     },
     "609cd6b4418e4e76933c43050759688a": {
      "model_module": "@jupyter-widgets/base",
      "model_module_version": "1.2.0",
      "model_name": "LayoutModel",
      "state": {
       "_model_module": "@jupyter-widgets/base",
       "_model_module_version": "1.2.0",
       "_model_name": "LayoutModel",
       "_view_count": null,
       "_view_module": "@jupyter-widgets/base",
       "_view_module_version": "1.2.0",
       "_view_name": "LayoutView",
       "align_content": null,
       "align_items": null,
       "align_self": null,
       "border": null,
       "bottom": null,
       "display": null,
       "flex": null,
       "flex_flow": null,
       "grid_area": null,
       "grid_auto_columns": null,
       "grid_auto_flow": null,
       "grid_auto_rows": null,
       "grid_column": null,
       "grid_gap": null,
       "grid_row": null,
       "grid_template_areas": null,
       "grid_template_columns": null,
       "grid_template_rows": null,
       "height": null,
       "justify_content": null,
       "justify_items": null,
       "left": null,
       "margin": null,
       "max_height": null,
       "max_width": null,
       "min_height": null,
       "min_width": null,
       "object_fit": null,
       "object_position": null,
       "order": null,
       "overflow": null,
       "overflow_x": null,
       "overflow_y": null,
       "padding": null,
       "right": null,
       "top": null,
       "visibility": null,
       "width": null
      }
     },
     "72cbafb1938d4be19b3422a579ca5d3b": {
      "model_module": "@jupyter-widgets/controls",
      "model_module_version": "1.5.0",
      "model_name": "HTMLModel",
      "state": {
       "_dom_classes": [],
       "_model_module": "@jupyter-widgets/controls",
       "_model_module_version": "1.5.0",
       "_model_name": "HTMLModel",
       "_view_count": null,
       "_view_module": "@jupyter-widgets/controls",
       "_view_module_version": "1.5.0",
       "_view_name": "HTMLView",
       "description": "",
       "description_tooltip": null,
       "layout": "IPY_MODEL_609cd6b4418e4e76933c43050759688a",
       "placeholder": "​",
       "style": "IPY_MODEL_023a571c77e34c0e9bc6b278e9c74c5a",
       "value": " 4/4 [01:51&lt;00:00, 26.78s/it]"
      }
     },
     "7e77a3d4942f4fdeb8b97f269bedc990": {
      "model_module": "@jupyter-widgets/controls",
      "model_module_version": "1.5.0",
      "model_name": "FloatProgressModel",
      "state": {
       "_dom_classes": [],
       "_model_module": "@jupyter-widgets/controls",
       "_model_module_version": "1.5.0",
       "_model_name": "FloatProgressModel",
       "_view_count": null,
       "_view_module": "@jupyter-widgets/controls",
       "_view_module_version": "1.5.0",
       "_view_name": "ProgressView",
       "bar_style": "success",
       "description": "",
       "description_tooltip": null,
       "layout": "IPY_MODEL_caccc4158ee14e809f325def3e07fcdb",
       "max": 4,
       "min": 0,
       "orientation": "horizontal",
       "style": "IPY_MODEL_dd263581764c4b8eb72c59fe55423a1b",
       "value": 4
      }
     },
     "819c889726ab492d926684bec6de96ef": {
      "model_module": "@jupyter-widgets/controls",
      "model_module_version": "1.5.0",
      "model_name": "DescriptionStyleModel",
      "state": {
       "_model_module": "@jupyter-widgets/controls",
       "_model_module_version": "1.5.0",
       "_model_name": "DescriptionStyleModel",
       "_view_count": null,
       "_view_module": "@jupyter-widgets/base",
       "_view_module_version": "1.2.0",
       "_view_name": "StyleView",
       "description_width": ""
      }
     },
     "90d42af170cc45afb11a083a76138bfd": {
      "model_module": "@jupyter-widgets/base",
      "model_module_version": "1.2.0",
      "model_name": "LayoutModel",
      "state": {
       "_model_module": "@jupyter-widgets/base",
       "_model_module_version": "1.2.0",
       "_model_name": "LayoutModel",
       "_view_count": null,
       "_view_module": "@jupyter-widgets/base",
       "_view_module_version": "1.2.0",
       "_view_name": "LayoutView",
       "align_content": null,
       "align_items": null,
       "align_self": null,
       "border": null,
       "bottom": null,
       "display": null,
       "flex": null,
       "flex_flow": null,
       "grid_area": null,
       "grid_auto_columns": null,
       "grid_auto_flow": null,
       "grid_auto_rows": null,
       "grid_column": null,
       "grid_gap": null,
       "grid_row": null,
       "grid_template_areas": null,
       "grid_template_columns": null,
       "grid_template_rows": null,
       "height": null,
       "justify_content": null,
       "justify_items": null,
       "left": null,
       "margin": null,
       "max_height": null,
       "max_width": null,
       "min_height": null,
       "min_width": null,
       "object_fit": null,
       "object_position": null,
       "order": null,
       "overflow": null,
       "overflow_x": null,
       "overflow_y": null,
       "padding": null,
       "right": null,
       "top": null,
       "visibility": null,
       "width": null
      }
     },
     "9ba5ac6f011b491b988f2b616fa4b13f": {
      "model_module": "@jupyter-widgets/controls",
      "model_module_version": "1.5.0",
      "model_name": "HTMLModel",
      "state": {
       "_dom_classes": [],
       "_model_module": "@jupyter-widgets/controls",
       "_model_module_version": "1.5.0",
       "_model_name": "HTMLModel",
       "_view_count": null,
       "_view_module": "@jupyter-widgets/controls",
       "_view_module_version": "1.5.0",
       "_view_name": "HTMLView",
       "description": "",
       "description_tooltip": null,
       "layout": "IPY_MODEL_90d42af170cc45afb11a083a76138bfd",
       "placeholder": "​",
       "style": "IPY_MODEL_bb2624f309694263b619c61ec37c198c",
       "value": "Loading checkpoint shards: 100%"
      }
     },
     "bb2624f309694263b619c61ec37c198c": {
      "model_module": "@jupyter-widgets/controls",
      "model_module_version": "1.5.0",
      "model_name": "DescriptionStyleModel",
      "state": {
       "_model_module": "@jupyter-widgets/controls",
       "_model_module_version": "1.5.0",
       "_model_name": "DescriptionStyleModel",
       "_view_count": null,
       "_view_module": "@jupyter-widgets/base",
       "_view_module_version": "1.2.0",
       "_view_name": "StyleView",
       "description_width": ""
      }
     },
     "bd5ed41662d44415b71c190c9628e0c6": {
      "model_module": "@jupyter-widgets/controls",
      "model_module_version": "1.5.0",
      "model_name": "HBoxModel",
      "state": {
       "_dom_classes": [],
       "_model_module": "@jupyter-widgets/controls",
       "_model_module_version": "1.5.0",
       "_model_name": "HBoxModel",
       "_view_count": null,
       "_view_module": "@jupyter-widgets/controls",
       "_view_module_version": "1.5.0",
       "_view_name": "HBoxView",
       "box_style": "",
       "children": [
        "IPY_MODEL_ed5346b727754279b1fb92f2c41bdc4c",
        "IPY_MODEL_1bcf62a6803145af90c1424ee1ad3484",
        "IPY_MODEL_72cbafb1938d4be19b3422a579ca5d3b"
       ],
       "layout": "IPY_MODEL_3592e7bda96e4e6ea9b631420a3e1351"
      }
     },
     "caccc4158ee14e809f325def3e07fcdb": {
      "model_module": "@jupyter-widgets/base",
      "model_module_version": "1.2.0",
      "model_name": "LayoutModel",
      "state": {
       "_model_module": "@jupyter-widgets/base",
       "_model_module_version": "1.2.0",
       "_model_name": "LayoutModel",
       "_view_count": null,
       "_view_module": "@jupyter-widgets/base",
       "_view_module_version": "1.2.0",
       "_view_name": "LayoutView",
       "align_content": null,
       "align_items": null,
       "align_self": null,
       "border": null,
       "bottom": null,
       "display": null,
       "flex": null,
       "flex_flow": null,
       "grid_area": null,
       "grid_auto_columns": null,
       "grid_auto_flow": null,
       "grid_auto_rows": null,
       "grid_column": null,
       "grid_gap": null,
       "grid_row": null,
       "grid_template_areas": null,
       "grid_template_columns": null,
       "grid_template_rows": null,
       "height": null,
       "justify_content": null,
       "justify_items": null,
       "left": null,
       "margin": null,
       "max_height": null,
       "max_width": null,
       "min_height": null,
       "min_width": null,
       "object_fit": null,
       "object_position": null,
       "order": null,
       "overflow": null,
       "overflow_x": null,
       "overflow_y": null,
       "padding": null,
       "right": null,
       "top": null,
       "visibility": null,
       "width": null
      }
     },
     "dd263581764c4b8eb72c59fe55423a1b": {
      "model_module": "@jupyter-widgets/controls",
      "model_module_version": "1.5.0",
      "model_name": "ProgressStyleModel",
      "state": {
       "_model_module": "@jupyter-widgets/controls",
       "_model_module_version": "1.5.0",
       "_model_name": "ProgressStyleModel",
       "_view_count": null,
       "_view_module": "@jupyter-widgets/base",
       "_view_module_version": "1.2.0",
       "_view_name": "StyleView",
       "bar_color": null,
       "description_width": ""
      }
     },
     "e136ba60f4cd4c6ab585fc81a051aa8d": {
      "model_module": "@jupyter-widgets/controls",
      "model_module_version": "1.5.0",
      "model_name": "HTMLModel",
      "state": {
       "_dom_classes": [],
       "_model_module": "@jupyter-widgets/controls",
       "_model_module_version": "1.5.0",
       "_model_name": "HTMLModel",
       "_view_count": null,
       "_view_module": "@jupyter-widgets/controls",
       "_view_module_version": "1.5.0",
       "_view_name": "HTMLView",
       "description": "",
       "description_tooltip": null,
       "layout": "IPY_MODEL_f5645aba86d64513b0ed3f5b1de63f77",
       "placeholder": "​",
       "style": "IPY_MODEL_819c889726ab492d926684bec6de96ef",
       "value": " 4/4 [00:15&lt;00:00,  3.71s/it]"
      }
     },
     "ed5346b727754279b1fb92f2c41bdc4c": {
      "model_module": "@jupyter-widgets/controls",
      "model_module_version": "1.5.0",
      "model_name": "HTMLModel",
      "state": {
       "_dom_classes": [],
       "_model_module": "@jupyter-widgets/controls",
       "_model_module_version": "1.5.0",
       "_model_name": "HTMLModel",
       "_view_count": null,
       "_view_module": "@jupyter-widgets/controls",
       "_view_module_version": "1.5.0",
       "_view_name": "HTMLView",
       "description": "",
       "description_tooltip": null,
       "layout": "IPY_MODEL_20ade2dacb614e1ab9c319eb17856831",
       "placeholder": "​",
       "style": "IPY_MODEL_237701cd2e814469a28df6dc834f9904",
       "value": "Loading checkpoint shards: 100%"
      }
     },
     "f5645aba86d64513b0ed3f5b1de63f77": {
      "model_module": "@jupyter-widgets/base",
      "model_module_version": "1.2.0",
      "model_name": "LayoutModel",
      "state": {
       "_model_module": "@jupyter-widgets/base",
       "_model_module_version": "1.2.0",
       "_model_name": "LayoutModel",
       "_view_count": null,
       "_view_module": "@jupyter-widgets/base",
       "_view_module_version": "1.2.0",
       "_view_name": "LayoutView",
       "align_content": null,
       "align_items": null,
       "align_self": null,
       "border": null,
       "bottom": null,
       "display": null,
       "flex": null,
       "flex_flow": null,
       "grid_area": null,
       "grid_auto_columns": null,
       "grid_auto_flow": null,
       "grid_auto_rows": null,
       "grid_column": null,
       "grid_gap": null,
       "grid_row": null,
       "grid_template_areas": null,
       "grid_template_columns": null,
       "grid_template_rows": null,
       "height": null,
       "justify_content": null,
       "justify_items": null,
       "left": null,
       "margin": null,
       "max_height": null,
       "max_width": null,
       "min_height": null,
       "min_width": null,
       "object_fit": null,
       "object_position": null,
       "order": null,
       "overflow": null,
       "overflow_x": null,
       "overflow_y": null,
       "padding": null,
       "right": null,
       "top": null,
       "visibility": null,
       "width": null
      }
     }
    },
    "version_major": 2,
    "version_minor": 0
   }
  }
 },
 "nbformat": 4,
 "nbformat_minor": 5
}
