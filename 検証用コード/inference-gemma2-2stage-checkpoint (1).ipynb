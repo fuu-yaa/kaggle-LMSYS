{
 "cells": [
  {
   "cell_type": "markdown",
   "id": "cda12e12",
   "metadata": {
    "papermill": {
     "duration": 0.011822,
     "end_time": "2024-07-29T02:10:09.396132",
     "exception": false,
     "start_time": "2024-07-29T02:10:09.384310",
     "status": "completed"
    },
    "tags": []
   },
   "source": [
    "推論するよ\n",
    "すごいよ"
   ]
  },
  {
   "cell_type": "code",
   "execution_count": 1,
   "id": "0f847ce7",
   "metadata": {
    "_kg_hide-input": false,
    "_kg_hide-output": true,
    "execution": {
     "iopub.execute_input": "2024-07-29T02:10:09.419447Z",
     "iopub.status.busy": "2024-07-29T02:10:09.419119Z",
     "iopub.status.idle": "2024-07-29T02:10:26.780275Z",
     "shell.execute_reply": "2024-07-29T02:10:26.779201Z"
    },
    "papermill": {
     "duration": 17.375389,
     "end_time": "2024-07-29T02:10:26.782661",
     "exception": false,
     "start_time": "2024-07-29T02:10:09.407272",
     "status": "completed"
    },
    "scrolled": true,
    "tags": []
   },
   "outputs": [
    {
     "name": "stdout",
     "output_type": "stream",
     "text": [
      "Looking in links: /kaggle/input/lmsys-wheel-files\r\n",
      "Requirement already satisfied: transformers in /opt/conda/lib/python3.10/site-packages (4.42.3)\r\n",
      "Processing /kaggle/input/lmsys-wheel-files/peft-0.11.1-py3-none-any.whl\r\n",
      "Requirement already satisfied: accelerate in /opt/conda/lib/python3.10/site-packages (0.32.1)\r\n",
      "Processing /kaggle/input/lmsys-wheel-files/bitsandbytes-0.43.1-py3-none-manylinux_2_24_x86_64.whl\r\n",
      "Requirement already satisfied: filelock in /opt/conda/lib/python3.10/site-packages (from transformers) (3.13.1)\r\n",
      "Requirement already satisfied: huggingface-hub<1.0,>=0.23.2 in /opt/conda/lib/python3.10/site-packages (from transformers) (0.23.4)\r\n",
      "Requirement already satisfied: numpy<2.0,>=1.17 in /opt/conda/lib/python3.10/site-packages (from transformers) (1.26.4)\r\n",
      "Requirement already satisfied: packaging>=20.0 in /opt/conda/lib/python3.10/site-packages (from transformers) (21.3)\r\n",
      "Requirement already satisfied: pyyaml>=5.1 in /opt/conda/lib/python3.10/site-packages (from transformers) (6.0.1)\r\n",
      "Requirement already satisfied: regex!=2019.12.17 in /opt/conda/lib/python3.10/site-packages (from transformers) (2023.12.25)\r\n",
      "Requirement already satisfied: requests in /opt/conda/lib/python3.10/site-packages (from transformers) (2.32.3)\r\n",
      "Requirement already satisfied: safetensors>=0.4.1 in /opt/conda/lib/python3.10/site-packages (from transformers) (0.4.3)\r\n",
      "Requirement already satisfied: tokenizers<0.20,>=0.19 in /opt/conda/lib/python3.10/site-packages (from transformers) (0.19.1)\r\n",
      "Requirement already satisfied: tqdm>=4.27 in /opt/conda/lib/python3.10/site-packages (from transformers) (4.66.4)\r\n",
      "Requirement already satisfied: psutil in /opt/conda/lib/python3.10/site-packages (from peft) (5.9.3)\r\n",
      "Requirement already satisfied: torch>=1.13.0 in /opt/conda/lib/python3.10/site-packages (from peft) (2.1.2)\r\n",
      "Requirement already satisfied: fsspec>=2023.5.0 in /opt/conda/lib/python3.10/site-packages (from huggingface-hub<1.0,>=0.23.2->transformers) (2024.5.0)\r\n",
      "Requirement already satisfied: typing-extensions>=3.7.4.3 in /opt/conda/lib/python3.10/site-packages (from huggingface-hub<1.0,>=0.23.2->transformers) (4.9.0)\r\n",
      "Requirement already satisfied: pyparsing!=3.0.5,>=2.0.2 in /opt/conda/lib/python3.10/site-packages (from packaging>=20.0->transformers) (3.1.1)\r\n",
      "Requirement already satisfied: sympy in /opt/conda/lib/python3.10/site-packages (from torch>=1.13.0->peft) (1.13.0)\r\n",
      "Requirement already satisfied: networkx in /opt/conda/lib/python3.10/site-packages (from torch>=1.13.0->peft) (3.2.1)\r\n",
      "Requirement already satisfied: jinja2 in /opt/conda/lib/python3.10/site-packages (from torch>=1.13.0->peft) (3.1.2)\r\n",
      "Requirement already satisfied: charset-normalizer<4,>=2 in /opt/conda/lib/python3.10/site-packages (from requests->transformers) (3.3.2)\r\n",
      "Requirement already satisfied: idna<4,>=2.5 in /opt/conda/lib/python3.10/site-packages (from requests->transformers) (3.6)\r\n",
      "Requirement already satisfied: urllib3<3,>=1.21.1 in /opt/conda/lib/python3.10/site-packages (from requests->transformers) (1.26.18)\r\n",
      "Requirement already satisfied: certifi>=2017.4.17 in /opt/conda/lib/python3.10/site-packages (from requests->transformers) (2024.7.4)\r\n",
      "Requirement already satisfied: MarkupSafe>=2.0 in /opt/conda/lib/python3.10/site-packages (from jinja2->torch>=1.13.0->peft) (2.1.3)\r\n",
      "Requirement already satisfied: mpmath<1.4,>=1.1.0 in /opt/conda/lib/python3.10/site-packages (from sympy->torch>=1.13.0->peft) (1.3.0)\r\n",
      "Installing collected packages: bitsandbytes, peft\r\n",
      "Successfully installed bitsandbytes-0.43.1 peft-0.11.1\r\n"
     ]
    }
   ],
   "source": [
    "!pip install transformers peft accelerate bitsandbytes \\\n",
    "    -U --no-index --find-links /kaggle/input/lmsys-wheel-files"
   ]
  },
  {
   "cell_type": "code",
   "execution_count": 2,
   "id": "64830682",
   "metadata": {
    "execution": {
     "iopub.execute_input": "2024-07-29T02:10:26.808481Z",
     "iopub.status.busy": "2024-07-29T02:10:26.807739Z",
     "iopub.status.idle": "2024-07-29T02:10:48.785421Z",
     "shell.execute_reply": "2024-07-29T02:10:48.784595Z"
    },
    "papermill": {
     "duration": 21.99281,
     "end_time": "2024-07-29T02:10:48.787790",
     "exception": false,
     "start_time": "2024-07-29T02:10:26.794980",
     "status": "completed"
    },
    "tags": []
   },
   "outputs": [
    {
     "name": "stderr",
     "output_type": "stream",
     "text": [
      "2024-07-29 02:10:37.181742: E external/local_xla/xla/stream_executor/cuda/cuda_dnn.cc:9261] Unable to register cuDNN factory: Attempting to register factory for plugin cuDNN when one has already been registered\n",
      "2024-07-29 02:10:37.181872: E external/local_xla/xla/stream_executor/cuda/cuda_fft.cc:607] Unable to register cuFFT factory: Attempting to register factory for plugin cuFFT when one has already been registered\n",
      "2024-07-29 02:10:37.359533: E external/local_xla/xla/stream_executor/cuda/cuda_blas.cc:1515] Unable to register cuBLAS factory: Attempting to register factory for plugin cuBLAS when one has already been registered\n"
     ]
    }
   ],
   "source": [
    "import json\n",
    "import unicodedata\n",
    "\n",
    "import time\n",
    "from dataclasses import dataclass\n",
    "from concurrent.futures import ThreadPoolExecutor\n",
    "\n",
    "import torch\n",
    "import sklearn\n",
    "import numpy as np\n",
    "import pandas as pd\n",
    "from transformers import Gemma2ForSequenceClassification, GemmaTokenizerFast, BitsAndBytesConfig, AutoTokenizer\n",
    "from transformers.data.data_collator import pad_without_fast_tokenizer_warning\n",
    "from peft import PeftModel"
   ]
  },
  {
   "cell_type": "code",
   "execution_count": 3,
   "id": "05052046",
   "metadata": {
    "execution": {
     "iopub.execute_input": "2024-07-29T02:10:48.813121Z",
     "iopub.status.busy": "2024-07-29T02:10:48.812559Z",
     "iopub.status.idle": "2024-07-29T02:10:48.844010Z",
     "shell.execute_reply": "2024-07-29T02:10:48.843224Z"
    },
    "papermill": {
     "duration": 0.045852,
     "end_time": "2024-07-29T02:10:48.845941",
     "exception": false,
     "start_time": "2024-07-29T02:10:48.800089",
     "status": "completed"
    },
    "tags": []
   },
   "outputs": [],
   "source": [
    "assert torch.cuda.device_count() == 2"
   ]
  },
  {
   "cell_type": "markdown",
   "id": "4e47a732",
   "metadata": {
    "papermill": {
     "duration": 0.011742,
     "end_time": "2024-07-29T02:10:48.869781",
     "exception": false,
     "start_time": "2024-07-29T02:10:48.858039",
     "status": "completed"
    },
    "tags": []
   },
   "source": [
    "## Configurations"
   ]
  },
  {
   "cell_type": "code",
   "execution_count": 4,
   "id": "ee72bf7e",
   "metadata": {
    "execution": {
     "iopub.execute_input": "2024-07-29T02:10:48.894810Z",
     "iopub.status.busy": "2024-07-29T02:10:48.894259Z",
     "iopub.status.idle": "2024-07-29T02:10:48.899770Z",
     "shell.execute_reply": "2024-07-29T02:10:48.898951Z"
    },
    "papermill": {
     "duration": 0.019965,
     "end_time": "2024-07-29T02:10:48.901623",
     "exception": false,
     "start_time": "2024-07-29T02:10:48.881658",
     "status": "completed"
    },
    "tags": []
   },
   "outputs": [],
   "source": [
    "@dataclass\n",
    "class Config:\n",
    "#     gemma_dir = '/kaggle/input/gemma-2-9b-it/gemma-2-9b-it-palash-model'\n",
    "    gemma_dir = '/kaggle/input/gemma-2-9b-hf'\n",
    "#     gemma_dir = '/kaggle/input/gemma-2/transformers/gemma-2-9b-it-8bit/1'\n",
    "    finetuned_model_dir = '/kaggle/input/gemma2-2stage-checkpoint200-0729'\n",
    "#     finetuned_model_dir = '/kaggle/input/73zap2gx/checkpoint-5748'\n",
    "    max_length = 2400\n",
    "    batch_size = 2\n",
    "    device = torch.device(\"cuda\")    \n",
    "    tta = False  # test time augmentation. <prompt>-<model-b's response>-<model-a's response>\n",
    "    spread_max_length = False  # whether to apply max_length//3 on each input or max_length on the concatenated input\n",
    "\n",
    "cfg = Config()"
   ]
  },
  {
   "cell_type": "markdown",
   "id": "4cefd7c0",
   "metadata": {
    "papermill": {
     "duration": 0.011341,
     "end_time": "2024-07-29T02:10:48.925553",
     "exception": false,
     "start_time": "2024-07-29T02:10:48.914212",
     "status": "completed"
    },
    "tags": []
   },
   "source": [
    "# Load & pre-process Data "
   ]
  },
  {
   "cell_type": "code",
   "execution_count": 5,
   "id": "daf0c19c",
   "metadata": {
    "execution": {
     "iopub.execute_input": "2024-07-29T02:10:48.950533Z",
     "iopub.status.busy": "2024-07-29T02:10:48.950209Z",
     "iopub.status.idle": "2024-07-29T02:10:48.964385Z",
     "shell.execute_reply": "2024-07-29T02:10:48.963598Z"
    },
    "papermill": {
     "duration": 0.029261,
     "end_time": "2024-07-29T02:10:48.966416",
     "exception": false,
     "start_time": "2024-07-29T02:10:48.937155",
     "status": "completed"
    },
    "tags": []
   },
   "outputs": [],
   "source": [
    "test = pd.read_csv('/kaggle/input/lmsys-chatbot-arena/test.csv')"
   ]
  },
  {
   "cell_type": "code",
   "execution_count": 6,
   "id": "4a1a2ed3",
   "metadata": {
    "execution": {
     "iopub.execute_input": "2024-07-29T02:10:48.991483Z",
     "iopub.status.busy": "2024-07-29T02:10:48.991224Z",
     "iopub.status.idle": "2024-07-29T02:10:49.018428Z",
     "shell.execute_reply": "2024-07-29T02:10:49.017537Z"
    },
    "papermill": {
     "duration": 0.041812,
     "end_time": "2024-07-29T02:10:49.020356",
     "exception": false,
     "start_time": "2024-07-29T02:10:48.978544",
     "status": "completed"
    },
    "tags": []
   },
   "outputs": [
    {
     "data": {
      "text/html": [
       "<div>\n",
       "<style scoped>\n",
       "    .dataframe tbody tr th:only-of-type {\n",
       "        vertical-align: middle;\n",
       "    }\n",
       "\n",
       "    .dataframe tbody tr th {\n",
       "        vertical-align: top;\n",
       "    }\n",
       "\n",
       "    .dataframe thead th {\n",
       "        text-align: right;\n",
       "    }\n",
       "</style>\n",
       "<table border=\"1\" class=\"dataframe\">\n",
       "  <thead>\n",
       "    <tr style=\"text-align: right;\">\n",
       "      <th></th>\n",
       "      <th>id</th>\n",
       "      <th>prompt</th>\n",
       "      <th>response_a</th>\n",
       "      <th>response_b</th>\n",
       "    </tr>\n",
       "  </thead>\n",
       "  <tbody>\n",
       "    <tr>\n",
       "      <th>0</th>\n",
       "      <td>136060</td>\n",
       "      <td>'I have three oranges today, I ate an orange y...</td>\n",
       "      <td>'You have two oranges today.'</td>\n",
       "      <td>'You still have three oranges. Eating an orang...</td>\n",
       "    </tr>\n",
       "    <tr>\n",
       "      <th>1</th>\n",
       "      <td>211333</td>\n",
       "      <td>\"You are a mediator in a heated political deba...</td>\n",
       "      <td>\"Thank you for sharing the details of the situ...</td>\n",
       "      <td>\"Mr Reddy and Ms Blue both have valid points i...</td>\n",
       "    </tr>\n",
       "    <tr>\n",
       "      <th>2</th>\n",
       "      <td>1233961</td>\n",
       "      <td>'How to initialize the classification head whe...</td>\n",
       "      <td>\"When you want to initialize the classificatio...</td>\n",
       "      <td>\"To initialize the classification head when pe...</td>\n",
       "    </tr>\n",
       "  </tbody>\n",
       "</table>\n",
       "</div>"
      ],
      "text/plain": [
       "        id                                             prompt  \\\n",
       "0   136060  'I have three oranges today, I ate an orange y...   \n",
       "1   211333  \"You are a mediator in a heated political deba...   \n",
       "2  1233961  'How to initialize the classification head whe...   \n",
       "\n",
       "                                          response_a  \\\n",
       "0                      'You have two oranges today.'   \n",
       "1  \"Thank you for sharing the details of the situ...   \n",
       "2  \"When you want to initialize the classificatio...   \n",
       "\n",
       "                                          response_b  \n",
       "0  'You still have three oranges. Eating an orang...  \n",
       "1  \"Mr Reddy and Ms Blue both have valid points i...  \n",
       "2  \"To initialize the classification head when pe...  "
      ]
     },
     "metadata": {},
     "output_type": "display_data"
    }
   ],
   "source": [
    "def process_text(text: str) -> str:\n",
    "    ls_str = json.loads(text)\n",
    "    ls_str = [\"\" if s is None else s for s in ls_str]\n",
    "    ls_str = [\"null\" if s == \"\" else s for s in ls_str]\n",
    "    ls_str = [repr(s) for s in ls_str]\n",
    "#     norm_ls = [unicodedata.normalize('NFKC', s).encode('unicode-escape').decode('utf-8') for s in ls_str]\n",
    "    ls_str = [unicodedata.normalize('NFKC', s) for s in ls_str]\n",
    "\n",
    "    return \" \".join(ls_str)\n",
    "\n",
    "test.loc[:, 'prompt'] = test['prompt'].apply(process_text)\n",
    "test.loc[:, 'response_a'] = test['response_a'].apply(process_text)\n",
    "test.loc[:, 'response_b'] = test['response_b'].apply(process_text)\n",
    "\n",
    "display(test.head(5))"
   ]
  },
  {
   "cell_type": "markdown",
   "id": "44c23b26",
   "metadata": {
    "papermill": {
     "duration": 0.011939,
     "end_time": "2024-07-29T02:10:49.044083",
     "exception": false,
     "start_time": "2024-07-29T02:10:49.032144",
     "status": "completed"
    },
    "tags": []
   },
   "source": [
    "# Tokenize"
   ]
  },
  {
   "cell_type": "code",
   "execution_count": 7,
   "id": "2e24e0d4",
   "metadata": {
    "execution": {
     "iopub.execute_input": "2024-07-29T02:10:49.069054Z",
     "iopub.status.busy": "2024-07-29T02:10:49.068760Z",
     "iopub.status.idle": "2024-07-29T02:10:49.083505Z",
     "shell.execute_reply": "2024-07-29T02:10:49.082688Z"
    },
    "papermill": {
     "duration": 0.029342,
     "end_time": "2024-07-29T02:10:49.085352",
     "exception": false,
     "start_time": "2024-07-29T02:10:49.056010",
     "status": "completed"
    },
    "tags": []
   },
   "outputs": [],
   "source": [
    "def tokenize(tokenizer, df):\n",
    "\n",
    "    for index, row in df.iterrows():\n",
    "\n",
    "        # トークン化\n",
    "        prompt_token = tokenizer.encode(\"User prompt: \" + row.prompt, add_special_tokens=False)\n",
    "        res_a_token = tokenizer.encode(\"\\n\\nModel A :\\n\" + row.response_a, add_special_tokens=False)\n",
    "        res_b_token = tokenizer.encode(\"\\n\\n--------\\n\\nModel B:\\n\" + row.response_b, add_special_tokens=False)\n",
    "\n",
    "\n",
    "        # 各トークンの最大数と使用トークン数\n",
    "        prompt_max_token = cfg.max_length // 2\n",
    "        use_prompt_token_size = min(len(prompt_token), prompt_max_token)\n",
    "\n",
    "        res_a_max_token = (cfg.max_length - use_prompt_token_size) * len(res_a_token) // (len(res_a_token) + len(res_b_token))\n",
    "        use_res_a_token_size = min(len(res_a_token), res_a_max_token)\n",
    "\n",
    "        res_b_max_token = (cfg.max_length - use_prompt_token_size) * len(res_b_token) // (len(res_a_token) + len(res_b_token))\n",
    "        use_res_b_token_size = min(len(res_b_token), res_b_max_token)\n",
    "\n",
    "\n",
    "        # すべてが制限を超えていたら終了\n",
    "        if use_prompt_token_size == prompt_max_token & use_res_a_token_size == res_a_max_token & use_res_b_token_size == res_b_max_token:\n",
    "            pass\n",
    "\n",
    "        else:\n",
    "            while(1):\n",
    "                # 余っているトークン\n",
    "                remaining_tokens = cfg.max_length - use_prompt_token_size - use_res_a_token_size - use_res_b_token_size\n",
    "\n",
    "\n",
    "                # 未確定の列の数\n",
    "                not_confirm_token = sum((use_prompt_token_size < len(prompt_token), use_res_a_token_size < len(res_a_token), use_res_b_token_size < len(res_b_token)))\n",
    "\n",
    "                if not_confirm_token == 0:\n",
    "                    break\n",
    "\n",
    "                divide_remaining_tokens = remaining_tokens // not_confirm_token\n",
    "                if divide_remaining_tokens == 0:\n",
    "                    break\n",
    "\n",
    "                # 余っているトークン割り当て\n",
    "                if use_prompt_token_size < len(prompt_token):\n",
    "                    additional_tokens = min(len(prompt_token) - use_prompt_token_size, divide_remaining_tokens)\n",
    "                    use_prompt_token_size += additional_tokens\n",
    "                    remaining_tokens -= additional_tokens\n",
    "\n",
    "                if use_res_a_token_size < len(res_a_token):\n",
    "                    additional_tokens = min(len(res_a_token) - use_res_a_token_size, divide_remaining_tokens)\n",
    "                    use_res_a_token_size += additional_tokens\n",
    "                    remaining_tokens -= additional_tokens\n",
    "\n",
    "                if use_res_b_token_size < len(res_b_token):\n",
    "                    additional_tokens = min(len(res_b_token) - use_res_b_token_size, divide_remaining_tokens)\n",
    "                    use_res_b_token_size += additional_tokens\n",
    "                    remaining_tokens -= additional_tokens\n",
    "\n",
    "        # 更新\n",
    "        df.loc[index, 'prompt'] = tokenizer.decode(prompt_token[:use_prompt_token_size//2] + prompt_token[-use_prompt_token_size//2:])\n",
    "        df.loc[index, 'response_a'] = tokenizer.decode(res_a_token[:use_res_a_token_size//2] + res_a_token[-use_res_a_token_size//2:])\n",
    "        df.loc[index, 'response_b'] = tokenizer.decode(res_b_token[:use_res_b_token_size//2] + res_b_token[-use_res_b_token_size//2:])\n",
    "\n",
    "        \n",
    "    # トークン化\n",
    "    text = [p + r_a + r_b for p, r_a, r_b in zip(df['prompt'], df['response_a'], df['response_b'])]\n",
    "    tokenized = tokenizer(text, max_length=cfg.max_length, truncation=True, padding=False)\n",
    "    input_ids = tokenized.input_ids\n",
    "    attention_mask = tokenized.attention_mask\n",
    "\n",
    "    return input_ids, attention_mask"
   ]
  },
  {
   "cell_type": "code",
   "execution_count": 8,
   "id": "8a90191e",
   "metadata": {
    "execution": {
     "iopub.execute_input": "2024-07-29T02:10:49.110752Z",
     "iopub.status.busy": "2024-07-29T02:10:49.110293Z",
     "iopub.status.idle": "2024-07-29T02:10:50.192119Z",
     "shell.execute_reply": "2024-07-29T02:10:50.191083Z"
    },
    "papermill": {
     "duration": 1.09694,
     "end_time": "2024-07-29T02:10:50.194247",
     "exception": false,
     "start_time": "2024-07-29T02:10:49.097307",
     "status": "completed"
    },
    "tags": []
   },
   "outputs": [
    {
     "name": "stdout",
     "output_type": "stream",
     "text": [
      "CPU times: user 832 ms, sys: 127 ms, total: 959 ms\n",
      "Wall time: 1.08 s\n"
     ]
    }
   ],
   "source": [
    "%%time\n",
    "\n",
    "tokenizer = AutoTokenizer.from_pretrained('/kaggle/input/gemma2-2stage-0726/gemma2-tokenizer')\n",
    "# tokenizer = GemmaTokenizerFast.from_pretrained(cfg.gemma_dir)\n",
    "tokenizer.add_eos_token = True\n",
    "tokenizer.padding_side = \"right\"\n",
    "\n",
    "data = pd.DataFrame()\n",
    "data[\"id\"] = test[\"id\"]\n",
    "data[\"input_ids\"], data[\"attention_mask\"] = tokenize(tokenizer, test)\n",
    "data[\"length\"] = data[\"input_ids\"].apply(len)"
   ]
  },
  {
   "cell_type": "code",
   "execution_count": 9,
   "id": "fc5aa664",
   "metadata": {
    "execution": {
     "iopub.execute_input": "2024-07-29T02:10:50.220647Z",
     "iopub.status.busy": "2024-07-29T02:10:50.219904Z",
     "iopub.status.idle": "2024-07-29T02:10:50.225700Z",
     "shell.execute_reply": "2024-07-29T02:10:50.224843Z"
    },
    "papermill": {
     "duration": 0.020735,
     "end_time": "2024-07-29T02:10:50.227634",
     "exception": false,
     "start_time": "2024-07-29T02:10:50.206899",
     "status": "completed"
    },
    "tags": []
   },
   "outputs": [
    {
     "name": "stdout",
     "output_type": "stream",
     "text": [
      "<bos>User prompt: 'I have three oranges today, I ate an orange yesterday. How many oranges do I have?'\n",
      "\n",
      "Model A :\n",
      "'You have two oranges today.'\n",
      "\n",
      "--------\n",
      "\n",
      "Model B:\n",
      "'You still have three oranges. Eating an orange yesterday does not affect the number of oranges you have today.'<eos>\n"
     ]
    }
   ],
   "source": [
    "print(tokenizer.decode(data[\"input_ids\"][0]))"
   ]
  },
  {
   "cell_type": "markdown",
   "id": "3a6d2261",
   "metadata": {
    "papermill": {
     "duration": 0.012183,
     "end_time": "2024-07-29T02:10:50.252950",
     "exception": false,
     "start_time": "2024-07-29T02:10:50.240767",
     "status": "completed"
    },
    "tags": []
   },
   "source": [
    "# Load model"
   ]
  },
  {
   "cell_type": "code",
   "execution_count": 10,
   "id": "6b134098",
   "metadata": {
    "execution": {
     "iopub.execute_input": "2024-07-29T02:10:50.279540Z",
     "iopub.status.busy": "2024-07-29T02:10:50.278682Z",
     "iopub.status.idle": "2024-07-29T02:10:50.283090Z",
     "shell.execute_reply": "2024-07-29T02:10:50.282214Z"
    },
    "papermill": {
     "duration": 0.019443,
     "end_time": "2024-07-29T02:10:50.284919",
     "exception": false,
     "start_time": "2024-07-29T02:10:50.265476",
     "status": "completed"
    },
    "tags": []
   },
   "outputs": [],
   "source": [
    "# 8bit量子化を適用\n",
    "bnb_config =  BitsAndBytesConfig(\n",
    "    load_in_8bit=True,\n",
    ")"
   ]
  },
  {
   "cell_type": "code",
   "execution_count": 11,
   "id": "ff366694",
   "metadata": {
    "execution": {
     "iopub.execute_input": "2024-07-29T02:10:50.309870Z",
     "iopub.status.busy": "2024-07-29T02:10:50.309571Z",
     "iopub.status.idle": "2024-07-29T02:13:01.615767Z",
     "shell.execute_reply": "2024-07-29T02:13:01.615006Z"
    },
    "papermill": {
     "duration": 131.321543,
     "end_time": "2024-07-29T02:13:01.618382",
     "exception": false,
     "start_time": "2024-07-29T02:10:50.296839",
     "status": "completed"
    },
    "tags": []
   },
   "outputs": [
    {
     "data": {
      "application/vnd.jupyter.widget-view+json": {
       "model_id": "7aa4a5b2185848eaaeb7716fc0c8fff2",
       "version_major": 2,
       "version_minor": 0
      },
      "text/plain": [
       "Loading checkpoint shards:   0%|          | 0/4 [00:00<?, ?it/s]"
      ]
     },
     "metadata": {},
     "output_type": "display_data"
    },
    {
     "name": "stderr",
     "output_type": "stream",
     "text": [
      "Some weights of Gemma2ForSequenceClassification were not initialized from the model checkpoint at /kaggle/input/gemma-2-9b-hf and are newly initialized: ['score.weight']\n",
      "You should probably TRAIN this model on a down-stream task to be able to use it for predictions and inference.\n"
     ]
    },
    {
     "data": {
      "application/vnd.jupyter.widget-view+json": {
       "model_id": "bdfd0a64097c467caab4b6c72dc54171",
       "version_major": 2,
       "version_minor": 0
      },
      "text/plain": [
       "Loading checkpoint shards:   0%|          | 0/4 [00:00<?, ?it/s]"
      ]
     },
     "metadata": {},
     "output_type": "display_data"
    },
    {
     "name": "stderr",
     "output_type": "stream",
     "text": [
      "Some weights of Gemma2ForSequenceClassification were not initialized from the model checkpoint at /kaggle/input/gemma-2-9b-hf and are newly initialized: ['score.weight']\n",
      "You should probably TRAIN this model on a down-stream task to be able to use it for predictions and inference.\n"
     ]
    }
   ],
   "source": [
    "# Load base model on GPU 0\n",
    "device_0 = torch.device('cuda:0')\n",
    "base_model_0 = Gemma2ForSequenceClassification.from_pretrained(\n",
    "    cfg.gemma_dir,\n",
    "    num_labels=3,\n",
    "    torch_dtype=torch.float16,\n",
    "    device_map=device_0,\n",
    "    use_cache=False,\n",
    "    quantization_config=bnb_config,\n",
    ")\n",
    "base_model_0.config.pad_token_id = tokenizer.pad_token_id\n",
    "\n",
    "# Load base model on GPU 1\n",
    "device_1 = torch.device('cuda:1')\n",
    "base_model_1 = Gemma2ForSequenceClassification.from_pretrained(\n",
    "    cfg.gemma_dir,\n",
    "    num_labels=3,\n",
    "    torch_dtype=torch.float16,\n",
    "    device_map=device_1,\n",
    "    use_cache=False,\n",
    "    quantization_config=bnb_config,\n",
    ")\n",
    "\n",
    "base_model_1.config.pad_token_id = tokenizer.pad_token_id"
   ]
  },
  {
   "cell_type": "markdown",
   "id": "d10e8992",
   "metadata": {
    "papermill": {
     "duration": 0.012431,
     "end_time": "2024-07-29T02:13:01.643907",
     "exception": false,
     "start_time": "2024-07-29T02:13:01.631476",
     "status": "completed"
    },
    "tags": []
   },
   "source": [
    "#### Load LoRA adapter"
   ]
  },
  {
   "cell_type": "markdown",
   "id": "46f3ae5c",
   "metadata": {
    "papermill": {
     "duration": 0.012567,
     "end_time": "2024-07-29T02:13:01.669194",
     "exception": false,
     "start_time": "2024-07-29T02:13:01.656627",
     "status": "completed"
    },
    "tags": []
   },
   "source": [
    "# Inference\n"
   ]
  },
  {
   "cell_type": "code",
   "execution_count": 12,
   "id": "203afa1a",
   "metadata": {
    "execution": {
     "iopub.execute_input": "2024-07-29T02:13:01.696290Z",
     "iopub.status.busy": "2024-07-29T02:13:01.695946Z",
     "iopub.status.idle": "2024-07-29T02:13:10.505902Z",
     "shell.execute_reply": "2024-07-29T02:13:10.504848Z"
    },
    "papermill": {
     "duration": 8.826715,
     "end_time": "2024-07-29T02:13:10.508439",
     "exception": false,
     "start_time": "2024-07-29T02:13:01.681724",
     "status": "completed"
    },
    "tags": []
   },
   "outputs": [],
   "source": [
    "model_0 = PeftModel.from_pretrained(base_model_0, cfg.finetuned_model_dir)\n",
    "model_1 = PeftModel.from_pretrained(base_model_1, cfg.finetuned_model_dir)"
   ]
  },
  {
   "cell_type": "code",
   "execution_count": 13,
   "id": "8689f1e0",
   "metadata": {
    "execution": {
     "iopub.execute_input": "2024-07-29T02:13:10.535850Z",
     "iopub.status.busy": "2024-07-29T02:13:10.535475Z",
     "iopub.status.idle": "2024-07-29T02:13:10.544888Z",
     "shell.execute_reply": "2024-07-29T02:13:10.543999Z"
    },
    "papermill": {
     "duration": 0.025213,
     "end_time": "2024-07-29T02:13:10.546768",
     "exception": false,
     "start_time": "2024-07-29T02:13:10.521555",
     "status": "completed"
    },
    "tags": []
   },
   "outputs": [],
   "source": [
    "@torch.no_grad()\n",
    "@torch.cuda.amp.autocast()\n",
    "def inference(df, model, device, batch_size=cfg.batch_size, max_length=cfg.max_length):\n",
    "    a_win, b_win, tie = [], [], []\n",
    "    \n",
    "    for start_idx in range(0, len(df), batch_size):\n",
    "        end_idx = min(start_idx + batch_size, len(df))\n",
    "        tmp = df.iloc[start_idx:end_idx]\n",
    "        input_ids = tmp[\"input_ids\"].to_list()\n",
    "        attention_mask = tmp[\"attention_mask\"].to_list()\n",
    "        inputs = pad_without_fast_tokenizer_warning(\n",
    "            tokenizer,\n",
    "            {\"input_ids\": input_ids, \"attention_mask\": attention_mask},\n",
    "            padding=\"longest\",\n",
    "            pad_to_multiple_of=None,\n",
    "            return_tensors=\"pt\",\n",
    "        )\n",
    "        outputs = model(**inputs.to(device))\n",
    "        proba = outputs.logits.softmax(-1).cpu()\n",
    "        \n",
    "        a_win.extend(proba[:, 0].tolist())\n",
    "        b_win.extend(proba[:, 1].tolist())\n",
    "        tie.extend(proba[:, 2].tolist())\n",
    "    \n",
    "    df[\"winner_model_a\"] = a_win\n",
    "    df[\"winner_model_b\"] = b_win\n",
    "    df[\"winner_tie\"] = tie\n",
    "    \n",
    "    return df"
   ]
  },
  {
   "cell_type": "code",
   "execution_count": 14,
   "id": "2d02ee66",
   "metadata": {
    "execution": {
     "iopub.execute_input": "2024-07-29T02:13:10.572822Z",
     "iopub.status.busy": "2024-07-29T02:13:10.572541Z",
     "iopub.status.idle": "2024-07-29T02:13:15.536396Z",
     "shell.execute_reply": "2024-07-29T02:13:15.535455Z"
    },
    "papermill": {
     "duration": 4.979701,
     "end_time": "2024-07-29T02:13:15.538950",
     "exception": false,
     "start_time": "2024-07-29T02:13:10.559249",
     "status": "completed"
    },
    "tags": []
   },
   "outputs": [
    {
     "name": "stdout",
     "output_type": "stream",
     "text": [
      "elapsed time: 4.957403182983398\n"
     ]
    }
   ],
   "source": [
    "st = time.time()\n",
    "\n",
    "# sort by input length to fully leverage dynaminc padding\n",
    "data = data.sort_values(\"length\", ascending=False)\n",
    "# the total #tokens in sub_1 and sub_2 should be more or less the same\n",
    "sub_1 = data.iloc[0::2].copy()\n",
    "sub_2 = data.iloc[1::2].copy()\n",
    "\n",
    "with ThreadPoolExecutor(max_workers=2) as executor:\n",
    "    results = executor.map(inference, (sub_1, sub_2), (model_0, model_1), (device_0, device_1))\n",
    "\n",
    "result_df = pd.concat(list(results), axis=0)\n",
    "proba = result_df[[\"winner_model_a\", \"winner_model_b\", \"winner_tie\"]].values\n",
    "\n",
    "print(f\"elapsed time: {time.time() - st}\")"
   ]
  },
  {
   "cell_type": "code",
   "execution_count": 15,
   "id": "7cbbbd6b",
   "metadata": {
    "execution": {
     "iopub.execute_input": "2024-07-29T02:13:15.567571Z",
     "iopub.status.busy": "2024-07-29T02:13:15.567267Z",
     "iopub.status.idle": "2024-07-29T02:13:15.583923Z",
     "shell.execute_reply": "2024-07-29T02:13:15.583054Z"
    },
    "papermill": {
     "duration": 0.032419,
     "end_time": "2024-07-29T02:13:15.585978",
     "exception": false,
     "start_time": "2024-07-29T02:13:15.553559",
     "status": "completed"
    },
    "tags": []
   },
   "outputs": [
    {
     "data": {
      "text/html": [
       "<div>\n",
       "<style scoped>\n",
       "    .dataframe tbody tr th:only-of-type {\n",
       "        vertical-align: middle;\n",
       "    }\n",
       "\n",
       "    .dataframe tbody tr th {\n",
       "        vertical-align: top;\n",
       "    }\n",
       "\n",
       "    .dataframe thead th {\n",
       "        text-align: right;\n",
       "    }\n",
       "</style>\n",
       "<table border=\"1\" class=\"dataframe\">\n",
       "  <thead>\n",
       "    <tr style=\"text-align: right;\">\n",
       "      <th></th>\n",
       "      <th>id</th>\n",
       "      <th>winner_model_a</th>\n",
       "      <th>winner_model_b</th>\n",
       "      <th>winner_tie</th>\n",
       "    </tr>\n",
       "  </thead>\n",
       "  <tbody>\n",
       "    <tr>\n",
       "      <th>2</th>\n",
       "      <td>1233961</td>\n",
       "      <td>0.105497</td>\n",
       "      <td>0.689945</td>\n",
       "      <td>0.204558</td>\n",
       "    </tr>\n",
       "    <tr>\n",
       "      <th>0</th>\n",
       "      <td>136060</td>\n",
       "      <td>0.001879</td>\n",
       "      <td>0.973305</td>\n",
       "      <td>0.024816</td>\n",
       "    </tr>\n",
       "    <tr>\n",
       "      <th>1</th>\n",
       "      <td>211333</td>\n",
       "      <td>0.249666</td>\n",
       "      <td>0.401457</td>\n",
       "      <td>0.348877</td>\n",
       "    </tr>\n",
       "  </tbody>\n",
       "</table>\n",
       "</div>"
      ],
      "text/plain": [
       "        id  winner_model_a  winner_model_b  winner_tie\n",
       "2  1233961        0.105497        0.689945    0.204558\n",
       "0   136060        0.001879        0.973305    0.024816\n",
       "1   211333        0.249666        0.401457    0.348877"
      ]
     },
     "metadata": {},
     "output_type": "display_data"
    }
   ],
   "source": [
    "result_df.loc[:, \"winner_model_a\"] = proba[:, 0]\n",
    "result_df.loc[:, \"winner_model_b\"] = proba[:, 1]\n",
    "result_df.loc[:, \"winner_tie\"] = proba[:, 2]\n",
    "submission_df = result_df[[\"id\", 'winner_model_a', 'winner_model_b', 'winner_tie']]\n",
    "submission_df.to_csv('submission.csv', index=False)\n",
    "display(submission_df)"
   ]
  },
  {
   "cell_type": "code",
   "execution_count": null,
   "id": "78c670d1",
   "metadata": {
    "papermill": {
     "duration": 0.012765,
     "end_time": "2024-07-29T02:13:15.611663",
     "exception": false,
     "start_time": "2024-07-29T02:13:15.598898",
     "status": "completed"
    },
    "tags": []
   },
   "outputs": [],
   "source": []
  },
  {
   "cell_type": "code",
   "execution_count": null,
   "id": "e08f7520",
   "metadata": {
    "papermill": {
     "duration": 0.013299,
     "end_time": "2024-07-29T02:13:15.638057",
     "exception": false,
     "start_time": "2024-07-29T02:13:15.624758",
     "status": "completed"
    },
    "tags": []
   },
   "outputs": [],
   "source": []
  }
 ],
 "metadata": {
  "kaggle": {
   "accelerator": "nvidiaTeslaT4",
   "dataSources": [
    {
     "databundleVersionId": 8346466,
     "sourceId": 66631,
     "sourceType": "competition"
    },
    {
     "datasetId": 5299906,
     "sourceId": 8811121,
     "sourceType": "datasetVersion"
    },
    {
     "datasetId": 5297895,
     "sourceId": 8897601,
     "sourceType": "datasetVersion"
    },
    {
     "datasetId": 5369301,
     "sourceId": 8926343,
     "sourceType": "datasetVersion"
    },
    {
     "datasetId": 5390170,
     "sourceId": 8956282,
     "sourceType": "datasetVersion"
    },
    {
     "datasetId": 5446728,
     "sourceId": 9035930,
     "sourceType": "datasetVersion"
    },
    {
     "datasetId": 5460026,
     "sourceId": 9055229,
     "sourceType": "datasetVersion"
    },
    {
     "sourceId": 187768984,
     "sourceType": "kernelVersion"
    },
    {
     "modelId": 76277,
     "modelInstanceId": 58215,
     "sourceId": 69765,
     "sourceType": "modelInstanceVersion"
    },
    {
     "modelId": 86587,
     "modelInstanceId": 63082,
     "sourceId": 75103,
     "sourceType": "modelInstanceVersion"
    },
    {
     "modelId": 86587,
     "modelInstanceId": 63761,
     "sourceId": 75886,
     "sourceType": "modelInstanceVersion"
    }
   ],
   "dockerImageVersionId": 30747,
   "isGpuEnabled": true,
   "isInternetEnabled": false,
   "language": "python",
   "sourceType": "notebook"
  },
  "kernelspec": {
   "display_name": "Python 3",
   "language": "python",
   "name": "python3"
  },
  "language_info": {
   "codemirror_mode": {
    "name": "ipython",
    "version": 3
   },
   "file_extension": ".py",
   "mimetype": "text/x-python",
   "name": "python",
   "nbconvert_exporter": "python",
   "pygments_lexer": "ipython3",
   "version": "3.10.13"
  },
  "papermill": {
   "default_parameters": {},
   "duration": 192.435805,
   "end_time": "2024-07-29T02:13:18.790957",
   "environment_variables": {},
   "exception": null,
   "input_path": "__notebook__.ipynb",
   "output_path": "__notebook__.ipynb",
   "parameters": {},
   "start_time": "2024-07-29T02:10:06.355152",
   "version": "2.5.0"
  },
  "widgets": {
   "application/vnd.jupyter.widget-state+json": {
    "state": {
     "10a076d638b44e38bf20d8f511b5ec9e": {
      "model_module": "@jupyter-widgets/base",
      "model_module_version": "1.2.0",
      "model_name": "LayoutModel",
      "state": {
       "_model_module": "@jupyter-widgets/base",
       "_model_module_version": "1.2.0",
       "_model_name": "LayoutModel",
       "_view_count": null,
       "_view_module": "@jupyter-widgets/base",
       "_view_module_version": "1.2.0",
       "_view_name": "LayoutView",
       "align_content": null,
       "align_items": null,
       "align_self": null,
       "border": null,
       "bottom": null,
       "display": null,
       "flex": null,
       "flex_flow": null,
       "grid_area": null,
       "grid_auto_columns": null,
       "grid_auto_flow": null,
       "grid_auto_rows": null,
       "grid_column": null,
       "grid_gap": null,
       "grid_row": null,
       "grid_template_areas": null,
       "grid_template_columns": null,
       "grid_template_rows": null,
       "height": null,
       "justify_content": null,
       "justify_items": null,
       "left": null,
       "margin": null,
       "max_height": null,
       "max_width": null,
       "min_height": null,
       "min_width": null,
       "object_fit": null,
       "object_position": null,
       "order": null,
       "overflow": null,
       "overflow_x": null,
       "overflow_y": null,
       "padding": null,
       "right": null,
       "top": null,
       "visibility": null,
       "width": null
      }
     },
     "1688cf6683b34417ab7b84b1cc63a680": {
      "model_module": "@jupyter-widgets/base",
      "model_module_version": "1.2.0",
      "model_name": "LayoutModel",
      "state": {
       "_model_module": "@jupyter-widgets/base",
       "_model_module_version": "1.2.0",
       "_model_name": "LayoutModel",
       "_view_count": null,
       "_view_module": "@jupyter-widgets/base",
       "_view_module_version": "1.2.0",
       "_view_name": "LayoutView",
       "align_content": null,
       "align_items": null,
       "align_self": null,
       "border": null,
       "bottom": null,
       "display": null,
       "flex": null,
       "flex_flow": null,
       "grid_area": null,
       "grid_auto_columns": null,
       "grid_auto_flow": null,
       "grid_auto_rows": null,
       "grid_column": null,
       "grid_gap": null,
       "grid_row": null,
       "grid_template_areas": null,
       "grid_template_columns": null,
       "grid_template_rows": null,
       "height": null,
       "justify_content": null,
       "justify_items": null,
       "left": null,
       "margin": null,
       "max_height": null,
       "max_width": null,
       "min_height": null,
       "min_width": null,
       "object_fit": null,
       "object_position": null,
       "order": null,
       "overflow": null,
       "overflow_x": null,
       "overflow_y": null,
       "padding": null,
       "right": null,
       "top": null,
       "visibility": null,
       "width": null
      }
     },
     "25548daadba24b28bad1ee90f7197cdc": {
      "model_module": "@jupyter-widgets/base",
      "model_module_version": "1.2.0",
      "model_name": "LayoutModel",
      "state": {
       "_model_module": "@jupyter-widgets/base",
       "_model_module_version": "1.2.0",
       "_model_name": "LayoutModel",
       "_view_count": null,
       "_view_module": "@jupyter-widgets/base",
       "_view_module_version": "1.2.0",
       "_view_name": "LayoutView",
       "align_content": null,
       "align_items": null,
       "align_self": null,
       "border": null,
       "bottom": null,
       "display": null,
       "flex": null,
       "flex_flow": null,
       "grid_area": null,
       "grid_auto_columns": null,
       "grid_auto_flow": null,
       "grid_auto_rows": null,
       "grid_column": null,
       "grid_gap": null,
       "grid_row": null,
       "grid_template_areas": null,
       "grid_template_columns": null,
       "grid_template_rows": null,
       "height": null,
       "justify_content": null,
       "justify_items": null,
       "left": null,
       "margin": null,
       "max_height": null,
       "max_width": null,
       "min_height": null,
       "min_width": null,
       "object_fit": null,
       "object_position": null,
       "order": null,
       "overflow": null,
       "overflow_x": null,
       "overflow_y": null,
       "padding": null,
       "right": null,
       "top": null,
       "visibility": null,
       "width": null
      }
     },
     "26d8e2bfdf4f453baa9084f7092078c7": {
      "model_module": "@jupyter-widgets/controls",
      "model_module_version": "1.5.0",
      "model_name": "HTMLModel",
      "state": {
       "_dom_classes": [],
       "_model_module": "@jupyter-widgets/controls",
       "_model_module_version": "1.5.0",
       "_model_name": "HTMLModel",
       "_view_count": null,
       "_view_module": "@jupyter-widgets/controls",
       "_view_module_version": "1.5.0",
       "_view_name": "HTMLView",
       "description": "",
       "description_tooltip": null,
       "layout": "IPY_MODEL_1688cf6683b34417ab7b84b1cc63a680",
       "placeholder": "​",
       "style": "IPY_MODEL_abde784f63c14270947f087dc4281fd8",
       "value": "Loading checkpoint shards: 100%"
      }
     },
     "27e79db4073941ed981ba871d00938fe": {
      "model_module": "@jupyter-widgets/controls",
      "model_module_version": "1.5.0",
      "model_name": "DescriptionStyleModel",
      "state": {
       "_model_module": "@jupyter-widgets/controls",
       "_model_module_version": "1.5.0",
       "_model_name": "DescriptionStyleModel",
       "_view_count": null,
       "_view_module": "@jupyter-widgets/base",
       "_view_module_version": "1.2.0",
       "_view_name": "StyleView",
       "description_width": ""
      }
     },
     "2e116332e3d14f479da3aff546295770": {
      "model_module": "@jupyter-widgets/base",
      "model_module_version": "1.2.0",
      "model_name": "LayoutModel",
      "state": {
       "_model_module": "@jupyter-widgets/base",
       "_model_module_version": "1.2.0",
       "_model_name": "LayoutModel",
       "_view_count": null,
       "_view_module": "@jupyter-widgets/base",
       "_view_module_version": "1.2.0",
       "_view_name": "LayoutView",
       "align_content": null,
       "align_items": null,
       "align_self": null,
       "border": null,
       "bottom": null,
       "display": null,
       "flex": null,
       "flex_flow": null,
       "grid_area": null,
       "grid_auto_columns": null,
       "grid_auto_flow": null,
       "grid_auto_rows": null,
       "grid_column": null,
       "grid_gap": null,
       "grid_row": null,
       "grid_template_areas": null,
       "grid_template_columns": null,
       "grid_template_rows": null,
       "height": null,
       "justify_content": null,
       "justify_items": null,
       "left": null,
       "margin": null,
       "max_height": null,
       "max_width": null,
       "min_height": null,
       "min_width": null,
       "object_fit": null,
       "object_position": null,
       "order": null,
       "overflow": null,
       "overflow_x": null,
       "overflow_y": null,
       "padding": null,
       "right": null,
       "top": null,
       "visibility": null,
       "width": null
      }
     },
     "33d964faf9434d66adf3503980904370": {
      "model_module": "@jupyter-widgets/controls",
      "model_module_version": "1.5.0",
      "model_name": "HTMLModel",
      "state": {
       "_dom_classes": [],
       "_model_module": "@jupyter-widgets/controls",
       "_model_module_version": "1.5.0",
       "_model_name": "HTMLModel",
       "_view_count": null,
       "_view_module": "@jupyter-widgets/controls",
       "_view_module_version": "1.5.0",
       "_view_name": "HTMLView",
       "description": "",
       "description_tooltip": null,
       "layout": "IPY_MODEL_d85ea4e751bc49fb9caefd5728995a12",
       "placeholder": "​",
       "style": "IPY_MODEL_27e79db4073941ed981ba871d00938fe",
       "value": " 4/4 [00:15&lt;00:00,  3.71s/it]"
      }
     },
     "3fe4f03f52b14c8783c0450c52f57360": {
      "model_module": "@jupyter-widgets/controls",
      "model_module_version": "1.5.0",
      "model_name": "HTMLModel",
      "state": {
       "_dom_classes": [],
       "_model_module": "@jupyter-widgets/controls",
       "_model_module_version": "1.5.0",
       "_model_name": "HTMLModel",
       "_view_count": null,
       "_view_module": "@jupyter-widgets/controls",
       "_view_module_version": "1.5.0",
       "_view_name": "HTMLView",
       "description": "",
       "description_tooltip": null,
       "layout": "IPY_MODEL_10a076d638b44e38bf20d8f511b5ec9e",
       "placeholder": "​",
       "style": "IPY_MODEL_54db3bbf13744e0db070c848e0c1fd4e",
       "value": " 4/4 [01:54&lt;00:00, 27.65s/it]"
      }
     },
     "46676c02bee34d6b87d8229ca8a73b45": {
      "model_module": "@jupyter-widgets/base",
      "model_module_version": "1.2.0",
      "model_name": "LayoutModel",
      "state": {
       "_model_module": "@jupyter-widgets/base",
       "_model_module_version": "1.2.0",
       "_model_name": "LayoutModel",
       "_view_count": null,
       "_view_module": "@jupyter-widgets/base",
       "_view_module_version": "1.2.0",
       "_view_name": "LayoutView",
       "align_content": null,
       "align_items": null,
       "align_self": null,
       "border": null,
       "bottom": null,
       "display": null,
       "flex": null,
       "flex_flow": null,
       "grid_area": null,
       "grid_auto_columns": null,
       "grid_auto_flow": null,
       "grid_auto_rows": null,
       "grid_column": null,
       "grid_gap": null,
       "grid_row": null,
       "grid_template_areas": null,
       "grid_template_columns": null,
       "grid_template_rows": null,
       "height": null,
       "justify_content": null,
       "justify_items": null,
       "left": null,
       "margin": null,
       "max_height": null,
       "max_width": null,
       "min_height": null,
       "min_width": null,
       "object_fit": null,
       "object_position": null,
       "order": null,
       "overflow": null,
       "overflow_x": null,
       "overflow_y": null,
       "padding": null,
       "right": null,
       "top": null,
       "visibility": null,
       "width": null
      }
     },
     "54db3bbf13744e0db070c848e0c1fd4e": {
      "model_module": "@jupyter-widgets/controls",
      "model_module_version": "1.5.0",
      "model_name": "DescriptionStyleModel",
      "state": {
       "_model_module": "@jupyter-widgets/controls",
       "_model_module_version": "1.5.0",
       "_model_name": "DescriptionStyleModel",
       "_view_count": null,
       "_view_module": "@jupyter-widgets/base",
       "_view_module_version": "1.2.0",
       "_view_name": "StyleView",
       "description_width": ""
      }
     },
     "56c355985cb34922bccdff930da58f06": {
      "model_module": "@jupyter-widgets/base",
      "model_module_version": "1.2.0",
      "model_name": "LayoutModel",
      "state": {
       "_model_module": "@jupyter-widgets/base",
       "_model_module_version": "1.2.0",
       "_model_name": "LayoutModel",
       "_view_count": null,
       "_view_module": "@jupyter-widgets/base",
       "_view_module_version": "1.2.0",
       "_view_name": "LayoutView",
       "align_content": null,
       "align_items": null,
       "align_self": null,
       "border": null,
       "bottom": null,
       "display": null,
       "flex": null,
       "flex_flow": null,
       "grid_area": null,
       "grid_auto_columns": null,
       "grid_auto_flow": null,
       "grid_auto_rows": null,
       "grid_column": null,
       "grid_gap": null,
       "grid_row": null,
       "grid_template_areas": null,
       "grid_template_columns": null,
       "grid_template_rows": null,
       "height": null,
       "justify_content": null,
       "justify_items": null,
       "left": null,
       "margin": null,
       "max_height": null,
       "max_width": null,
       "min_height": null,
       "min_width": null,
       "object_fit": null,
       "object_position": null,
       "order": null,
       "overflow": null,
       "overflow_x": null,
       "overflow_y": null,
       "padding": null,
       "right": null,
       "top": null,
       "visibility": null,
       "width": null
      }
     },
     "5975ba8001084cb98cf8ab898180488e": {
      "model_module": "@jupyter-widgets/controls",
      "model_module_version": "1.5.0",
      "model_name": "FloatProgressModel",
      "state": {
       "_dom_classes": [],
       "_model_module": "@jupyter-widgets/controls",
       "_model_module_version": "1.5.0",
       "_model_name": "FloatProgressModel",
       "_view_count": null,
       "_view_module": "@jupyter-widgets/controls",
       "_view_module_version": "1.5.0",
       "_view_name": "ProgressView",
       "bar_style": "success",
       "description": "",
       "description_tooltip": null,
       "layout": "IPY_MODEL_f9aca0f5254345dfb9029b8b763df920",
       "max": 4.0,
       "min": 0.0,
       "orientation": "horizontal",
       "style": "IPY_MODEL_d62cb8c715e7430d9fa6eac014543d89",
       "value": 4.0
      }
     },
     "5a00b0730b3b454f90a91a15a20fee21": {
      "model_module": "@jupyter-widgets/controls",
      "model_module_version": "1.5.0",
      "model_name": "ProgressStyleModel",
      "state": {
       "_model_module": "@jupyter-widgets/controls",
       "_model_module_version": "1.5.0",
       "_model_name": "ProgressStyleModel",
       "_view_count": null,
       "_view_module": "@jupyter-widgets/base",
       "_view_module_version": "1.2.0",
       "_view_name": "StyleView",
       "bar_color": null,
       "description_width": ""
      }
     },
     "7aa4a5b2185848eaaeb7716fc0c8fff2": {
      "model_module": "@jupyter-widgets/controls",
      "model_module_version": "1.5.0",
      "model_name": "HBoxModel",
      "state": {
       "_dom_classes": [],
       "_model_module": "@jupyter-widgets/controls",
       "_model_module_version": "1.5.0",
       "_model_name": "HBoxModel",
       "_view_count": null,
       "_view_module": "@jupyter-widgets/controls",
       "_view_module_version": "1.5.0",
       "_view_name": "HBoxView",
       "box_style": "",
       "children": [
        "IPY_MODEL_26d8e2bfdf4f453baa9084f7092078c7",
        "IPY_MODEL_a5181824a60b4facb9ad1193d813a46c",
        "IPY_MODEL_3fe4f03f52b14c8783c0450c52f57360"
       ],
       "layout": "IPY_MODEL_25548daadba24b28bad1ee90f7197cdc"
      }
     },
     "9dd9e252bb1d46a39f26dd0fe24b00f9": {
      "model_module": "@jupyter-widgets/controls",
      "model_module_version": "1.5.0",
      "model_name": "DescriptionStyleModel",
      "state": {
       "_model_module": "@jupyter-widgets/controls",
       "_model_module_version": "1.5.0",
       "_model_name": "DescriptionStyleModel",
       "_view_count": null,
       "_view_module": "@jupyter-widgets/base",
       "_view_module_version": "1.2.0",
       "_view_name": "StyleView",
       "description_width": ""
      }
     },
     "a5181824a60b4facb9ad1193d813a46c": {
      "model_module": "@jupyter-widgets/controls",
      "model_module_version": "1.5.0",
      "model_name": "FloatProgressModel",
      "state": {
       "_dom_classes": [],
       "_model_module": "@jupyter-widgets/controls",
       "_model_module_version": "1.5.0",
       "_model_name": "FloatProgressModel",
       "_view_count": null,
       "_view_module": "@jupyter-widgets/controls",
       "_view_module_version": "1.5.0",
       "_view_name": "ProgressView",
       "bar_style": "success",
       "description": "",
       "description_tooltip": null,
       "layout": "IPY_MODEL_46676c02bee34d6b87d8229ca8a73b45",
       "max": 4.0,
       "min": 0.0,
       "orientation": "horizontal",
       "style": "IPY_MODEL_5a00b0730b3b454f90a91a15a20fee21",
       "value": 4.0
      }
     },
     "abde784f63c14270947f087dc4281fd8": {
      "model_module": "@jupyter-widgets/controls",
      "model_module_version": "1.5.0",
      "model_name": "DescriptionStyleModel",
      "state": {
       "_model_module": "@jupyter-widgets/controls",
       "_model_module_version": "1.5.0",
       "_model_name": "DescriptionStyleModel",
       "_view_count": null,
       "_view_module": "@jupyter-widgets/base",
       "_view_module_version": "1.2.0",
       "_view_name": "StyleView",
       "description_width": ""
      }
     },
     "bdfd0a64097c467caab4b6c72dc54171": {
      "model_module": "@jupyter-widgets/controls",
      "model_module_version": "1.5.0",
      "model_name": "HBoxModel",
      "state": {
       "_dom_classes": [],
       "_model_module": "@jupyter-widgets/controls",
       "_model_module_version": "1.5.0",
       "_model_name": "HBoxModel",
       "_view_count": null,
       "_view_module": "@jupyter-widgets/controls",
       "_view_module_version": "1.5.0",
       "_view_name": "HBoxView",
       "box_style": "",
       "children": [
        "IPY_MODEL_e3bdc47a86024d27866bdb03b4e1584d",
        "IPY_MODEL_5975ba8001084cb98cf8ab898180488e",
        "IPY_MODEL_33d964faf9434d66adf3503980904370"
       ],
       "layout": "IPY_MODEL_2e116332e3d14f479da3aff546295770"
      }
     },
     "d62cb8c715e7430d9fa6eac014543d89": {
      "model_module": "@jupyter-widgets/controls",
      "model_module_version": "1.5.0",
      "model_name": "ProgressStyleModel",
      "state": {
       "_model_module": "@jupyter-widgets/controls",
       "_model_module_version": "1.5.0",
       "_model_name": "ProgressStyleModel",
       "_view_count": null,
       "_view_module": "@jupyter-widgets/base",
       "_view_module_version": "1.2.0",
       "_view_name": "StyleView",
       "bar_color": null,
       "description_width": ""
      }
     },
     "d85ea4e751bc49fb9caefd5728995a12": {
      "model_module": "@jupyter-widgets/base",
      "model_module_version": "1.2.0",
      "model_name": "LayoutModel",
      "state": {
       "_model_module": "@jupyter-widgets/base",
       "_model_module_version": "1.2.0",
       "_model_name": "LayoutModel",
       "_view_count": null,
       "_view_module": "@jupyter-widgets/base",
       "_view_module_version": "1.2.0",
       "_view_name": "LayoutView",
       "align_content": null,
       "align_items": null,
       "align_self": null,
       "border": null,
       "bottom": null,
       "display": null,
       "flex": null,
       "flex_flow": null,
       "grid_area": null,
       "grid_auto_columns": null,
       "grid_auto_flow": null,
       "grid_auto_rows": null,
       "grid_column": null,
       "grid_gap": null,
       "grid_row": null,
       "grid_template_areas": null,
       "grid_template_columns": null,
       "grid_template_rows": null,
       "height": null,
       "justify_content": null,
       "justify_items": null,
       "left": null,
       "margin": null,
       "max_height": null,
       "max_width": null,
       "min_height": null,
       "min_width": null,
       "object_fit": null,
       "object_position": null,
       "order": null,
       "overflow": null,
       "overflow_x": null,
       "overflow_y": null,
       "padding": null,
       "right": null,
       "top": null,
       "visibility": null,
       "width": null
      }
     },
     "e3bdc47a86024d27866bdb03b4e1584d": {
      "model_module": "@jupyter-widgets/controls",
      "model_module_version": "1.5.0",
      "model_name": "HTMLModel",
      "state": {
       "_dom_classes": [],
       "_model_module": "@jupyter-widgets/controls",
       "_model_module_version": "1.5.0",
       "_model_name": "HTMLModel",
       "_view_count": null,
       "_view_module": "@jupyter-widgets/controls",
       "_view_module_version": "1.5.0",
       "_view_name": "HTMLView",
       "description": "",
       "description_tooltip": null,
       "layout": "IPY_MODEL_56c355985cb34922bccdff930da58f06",
       "placeholder": "​",
       "style": "IPY_MODEL_9dd9e252bb1d46a39f26dd0fe24b00f9",
       "value": "Loading checkpoint shards: 100%"
      }
     },
     "f9aca0f5254345dfb9029b8b763df920": {
      "model_module": "@jupyter-widgets/base",
      "model_module_version": "1.2.0",
      "model_name": "LayoutModel",
      "state": {
       "_model_module": "@jupyter-widgets/base",
       "_model_module_version": "1.2.0",
       "_model_name": "LayoutModel",
       "_view_count": null,
       "_view_module": "@jupyter-widgets/base",
       "_view_module_version": "1.2.0",
       "_view_name": "LayoutView",
       "align_content": null,
       "align_items": null,
       "align_self": null,
       "border": null,
       "bottom": null,
       "display": null,
       "flex": null,
       "flex_flow": null,
       "grid_area": null,
       "grid_auto_columns": null,
       "grid_auto_flow": null,
       "grid_auto_rows": null,
       "grid_column": null,
       "grid_gap": null,
       "grid_row": null,
       "grid_template_areas": null,
       "grid_template_columns": null,
       "grid_template_rows": null,
       "height": null,
       "justify_content": null,
       "justify_items": null,
       "left": null,
       "margin": null,
       "max_height": null,
       "max_width": null,
       "min_height": null,
       "min_width": null,
       "object_fit": null,
       "object_position": null,
       "order": null,
       "overflow": null,
       "overflow_x": null,
       "overflow_y": null,
       "padding": null,
       "right": null,
       "top": null,
       "visibility": null,
       "width": null
      }
     }
    },
    "version_major": 2,
    "version_minor": 0
   }
  }
 },
 "nbformat": 4,
 "nbformat_minor": 5
}
