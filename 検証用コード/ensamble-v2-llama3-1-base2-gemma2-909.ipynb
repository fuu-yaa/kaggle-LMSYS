{
 "cells": [
  {
   "cell_type": "code",
   "execution_count": 1,
   "id": "ab835fbf",
   "metadata": {
    "execution": {
     "iopub.execute_input": "2024-08-05T05:45:01.149038Z",
     "iopub.status.busy": "2024-08-05T05:45:01.148710Z",
     "iopub.status.idle": "2024-08-05T05:45:01.153210Z",
     "shell.execute_reply": "2024-08-05T05:45:01.152428Z"
    },
    "papermill": {
     "duration": 0.011771,
     "end_time": "2024-08-05T05:45:01.155204",
     "exception": false,
     "start_time": "2024-08-05T05:45:01.143433",
     "status": "completed"
    },
    "tags": []
   },
   "outputs": [],
   "source": [
    "# !pip install -q -U langdetect --no-index --find-links /kaggle/input/pip-install-langdetect"
   ]
  },
  {
   "cell_type": "code",
   "execution_count": 2,
   "id": "63c23721",
   "metadata": {
    "execution": {
     "iopub.execute_input": "2024-08-05T05:45:01.163523Z",
     "iopub.status.busy": "2024-08-05T05:45:01.163240Z",
     "iopub.status.idle": "2024-08-05T05:48:16.999030Z",
     "shell.execute_reply": "2024-08-05T05:48:16.997932Z"
    },
    "papermill": {
     "duration": 195.843295,
     "end_time": "2024-08-05T05:48:17.002144",
     "exception": false,
     "start_time": "2024-08-05T05:45:01.158849",
     "status": "completed"
    },
    "tags": []
   },
   "outputs": [
    {
     "name": "stdout",
     "output_type": "stream",
     "text": [
      "/opt/conda/lib/python3.10/site-packages/IPython/core/interactiveshell.py:2649: UserWarning: You executed the system command !pip which may not work as expected. Try the IPython magic %pip instead.\r\n",
      "  warnings.warn(\r\n",
      "Looking in links: /kaggle/input/lmsys-wheel-files/lmsys\r\n",
      "Requirement already satisfied: transformers in /opt/conda/lib/python3.10/site-packages (4.42.3)\r\n",
      "Processing /kaggle/input/lmsys-wheel-files/lmsys/peft-0.11.1-py3-none-any.whl\r\n",
      "Requirement already satisfied: accelerate in /opt/conda/lib/python3.10/site-packages (0.32.1)\r\n",
      "Processing /kaggle/input/lmsys-wheel-files/lmsys/bitsandbytes-0.43.1-py3-none-manylinux_2_24_x86_64.whl\r\n",
      "Requirement already satisfied: filelock in /opt/conda/lib/python3.10/site-packages (from transformers) (3.13.1)\r\n",
      "Requirement already satisfied: huggingface-hub<1.0,>=0.23.2 in /opt/conda/lib/python3.10/site-packages (from transformers) (0.23.4)\r\n",
      "Requirement already satisfied: numpy<2.0,>=1.17 in /opt/conda/lib/python3.10/site-packages (from transformers) (1.26.4)\r\n",
      "Requirement already satisfied: packaging>=20.0 in /opt/conda/lib/python3.10/site-packages (from transformers) (21.3)\r\n",
      "Requirement already satisfied: pyyaml>=5.1 in /opt/conda/lib/python3.10/site-packages (from transformers) (6.0.1)\r\n",
      "Requirement already satisfied: regex!=2019.12.17 in /opt/conda/lib/python3.10/site-packages (from transformers) (2023.12.25)\r\n",
      "Requirement already satisfied: requests in /opt/conda/lib/python3.10/site-packages (from transformers) (2.32.3)\r\n",
      "Requirement already satisfied: safetensors>=0.4.1 in /opt/conda/lib/python3.10/site-packages (from transformers) (0.4.3)\r\n",
      "Requirement already satisfied: tokenizers<0.20,>=0.19 in /opt/conda/lib/python3.10/site-packages (from transformers) (0.19.1)\r\n",
      "Requirement already satisfied: tqdm>=4.27 in /opt/conda/lib/python3.10/site-packages (from transformers) (4.66.4)\r\n",
      "Requirement already satisfied: psutil in /opt/conda/lib/python3.10/site-packages (from peft) (5.9.3)\r\n",
      "Requirement already satisfied: torch>=1.13.0 in /opt/conda/lib/python3.10/site-packages (from peft) (2.1.2)\r\n",
      "Requirement already satisfied: fsspec>=2023.5.0 in /opt/conda/lib/python3.10/site-packages (from huggingface-hub<1.0,>=0.23.2->transformers) (2024.5.0)\r\n",
      "Requirement already satisfied: typing-extensions>=3.7.4.3 in /opt/conda/lib/python3.10/site-packages (from huggingface-hub<1.0,>=0.23.2->transformers) (4.9.0)\r\n",
      "Requirement already satisfied: pyparsing!=3.0.5,>=2.0.2 in /opt/conda/lib/python3.10/site-packages (from packaging>=20.0->transformers) (3.1.1)\r\n",
      "Requirement already satisfied: sympy in /opt/conda/lib/python3.10/site-packages (from torch>=1.13.0->peft) (1.13.0)\r\n",
      "Requirement already satisfied: networkx in /opt/conda/lib/python3.10/site-packages (from torch>=1.13.0->peft) (3.2.1)\r\n",
      "Requirement already satisfied: jinja2 in /opt/conda/lib/python3.10/site-packages (from torch>=1.13.0->peft) (3.1.2)\r\n",
      "Requirement already satisfied: charset-normalizer<4,>=2 in /opt/conda/lib/python3.10/site-packages (from requests->transformers) (3.3.2)\r\n",
      "Requirement already satisfied: idna<4,>=2.5 in /opt/conda/lib/python3.10/site-packages (from requests->transformers) (3.6)\r\n",
      "Requirement already satisfied: urllib3<3,>=1.21.1 in /opt/conda/lib/python3.10/site-packages (from requests->transformers) (1.26.18)\r\n",
      "Requirement already satisfied: certifi>=2017.4.17 in /opt/conda/lib/python3.10/site-packages (from requests->transformers) (2024.7.4)\r\n",
      "Requirement already satisfied: MarkupSafe>=2.0 in /opt/conda/lib/python3.10/site-packages (from jinja2->torch>=1.13.0->peft) (2.1.3)\r\n",
      "Requirement already satisfied: mpmath<1.4,>=1.1.0 in /opt/conda/lib/python3.10/site-packages (from sympy->torch>=1.13.0->peft) (1.3.0)\r\n",
      "Installing collected packages: bitsandbytes, peft\r\n",
      "Successfully installed bitsandbytes-0.43.1 peft-0.11.1\r\n",
      "2024-08-05 05:45:28.724814: E external/local_xla/xla/stream_executor/cuda/cuda_dnn.cc:9261] Unable to register cuDNN factory: Attempting to register factory for plugin cuDNN when one has already been registered\r\n",
      "2024-08-05 05:45:28.724956: E external/local_xla/xla/stream_executor/cuda/cuda_fft.cc:607] Unable to register cuFFT factory: Attempting to register factory for plugin cuFFT when one has already been registered\r\n",
      "2024-08-05 05:45:28.876035: E external/local_xla/xla/stream_executor/cuda/cuda_blas.cc:1515] Unable to register cuBLAS factory: Attempting to register factory for plugin cuBLAS when one has already been registered\r\n",
      "\u001b[22;0t\u001b]0;IPython: kaggle/working\u0007        id  ...                                         response_b\r\n",
      "0   136060  ...  'You still have three oranges. Eating an orang...\r\n",
      "1   211333  ...  \"Mr Reddy and Ms Blue both have valid points i...\r\n",
      "2  1233961  ...  \"To initialize the classification head when pe...\r\n",
      "\r\n",
      "[3 rows x 4 columns]\r\n",
      "User prompt: 'I have three oranges today, I ate an orange yesterday. How many oranges do I have?'\r\n",
      "\r\n",
      "Model A :\r\n",
      "'You have two oranges today.'\r\n",
      "\r\n",
      "--------\r\n",
      "\r\n",
      "Model B:\r\n",
      "'You still have three oranges. Eating an orange yesterday does not affect the number of oranges you have today.'\r\n",
      "0it [00:00, ?it/s]\r\n",
      "text_preprocessed\r\n",
      "CPU times: user 762 ms, sys: 132 ms, total: 894 ms\r\n",
      "Wall time: 1.04 s\r\n",
      "CPU times: user 728 ms, sys: 75.8 ms, total: 804 ms\r\n",
      "Wall time: 802 ms\r\n",
      "Loading checkpoint shards:   0%|          | 0/4 [00:00<?, ?it/s]\r\n",
      "Some weights of Gemma2ForSequenceClassification were not initialized from the model checkpoint at /kaggle/input/gemma-2-9b-hf and are newly initialized: ['score.weight']\r\n",
      "You should probably TRAIN this model on a down-stream task to be able to use it for predictions and inference.\r\n",
      "Loading checkpoint shards:   0%|          | 0/4 [00:00<?, ?it/s]\r\n",
      "Some weights of Gemma2ForSequenceClassification were not initialized from the model checkpoint at /kaggle/input/gemma-2-9b-hf and are newly initialized: ['score.weight']\r\n",
      "You should probably TRAIN this model on a down-stream task to be able to use it for predictions and inference.\r\n",
      "elapsed time: 4.9866697788238525\r\n",
      "elapsed time: 0.0002014636993408203\r\n",
      "        id  winner_model_a  winner_model_b  winner_tie\r\n",
      "2  1233961        0.103607        0.692299    0.204094\r\n",
      "0   136060        0.002074        0.968699    0.029227\r\n",
      "1   211333        0.239302        0.410234    0.350464\r\n",
      "\u001b[23;0t"
     ]
    }
   ],
   "source": [
    "!ipython /kaggle/input/gemma2-inference-0805/inference-gemma-2-9b-0805.ipynb"
   ]
  },
  {
   "cell_type": "code",
   "execution_count": 3,
   "id": "99b96c69",
   "metadata": {
    "execution": {
     "iopub.execute_input": "2024-08-05T05:48:17.015752Z",
     "iopub.status.busy": "2024-08-05T05:48:17.015437Z",
     "iopub.status.idle": "2024-08-05T05:48:17.473395Z",
     "shell.execute_reply": "2024-08-05T05:48:17.472577Z"
    },
    "papermill": {
     "duration": 0.467528,
     "end_time": "2024-08-05T05:48:17.475822",
     "exception": false,
     "start_time": "2024-08-05T05:48:17.008294",
     "status": "completed"
    },
    "tags": []
   },
   "outputs": [],
   "source": [
    "import pandas as pd\n",
    "submission_1 = pd.read_csv('/kaggle/working/submission.csv')"
   ]
  },
  {
   "cell_type": "code",
   "execution_count": 4,
   "id": "8ce162fa",
   "metadata": {
    "execution": {
     "iopub.execute_input": "2024-08-05T05:48:17.489663Z",
     "iopub.status.busy": "2024-08-05T05:48:17.489394Z",
     "iopub.status.idle": "2024-08-05T05:48:17.503617Z",
     "shell.execute_reply": "2024-08-05T05:48:17.502694Z"
    },
    "papermill": {
     "duration": 0.02321,
     "end_time": "2024-08-05T05:48:17.505634",
     "exception": false,
     "start_time": "2024-08-05T05:48:17.482424",
     "status": "completed"
    },
    "tags": []
   },
   "outputs": [
    {
     "data": {
      "text/html": [
       "<div>\n",
       "<style scoped>\n",
       "    .dataframe tbody tr th:only-of-type {\n",
       "        vertical-align: middle;\n",
       "    }\n",
       "\n",
       "    .dataframe tbody tr th {\n",
       "        vertical-align: top;\n",
       "    }\n",
       "\n",
       "    .dataframe thead th {\n",
       "        text-align: right;\n",
       "    }\n",
       "</style>\n",
       "<table border=\"1\" class=\"dataframe\">\n",
       "  <thead>\n",
       "    <tr style=\"text-align: right;\">\n",
       "      <th></th>\n",
       "      <th>id</th>\n",
       "      <th>winner_model_a</th>\n",
       "      <th>winner_model_b</th>\n",
       "      <th>winner_tie</th>\n",
       "    </tr>\n",
       "  </thead>\n",
       "  <tbody>\n",
       "    <tr>\n",
       "      <th>0</th>\n",
       "      <td>1233961</td>\n",
       "      <td>0.103607</td>\n",
       "      <td>0.692299</td>\n",
       "      <td>0.204094</td>\n",
       "    </tr>\n",
       "    <tr>\n",
       "      <th>1</th>\n",
       "      <td>136060</td>\n",
       "      <td>0.002074</td>\n",
       "      <td>0.968699</td>\n",
       "      <td>0.029227</td>\n",
       "    </tr>\n",
       "    <tr>\n",
       "      <th>2</th>\n",
       "      <td>211333</td>\n",
       "      <td>0.239302</td>\n",
       "      <td>0.410234</td>\n",
       "      <td>0.350464</td>\n",
       "    </tr>\n",
       "  </tbody>\n",
       "</table>\n",
       "</div>"
      ],
      "text/plain": [
       "        id  winner_model_a  winner_model_b  winner_tie\n",
       "0  1233961        0.103607        0.692299    0.204094\n",
       "1   136060        0.002074        0.968699    0.029227\n",
       "2   211333        0.239302        0.410234    0.350464"
      ]
     },
     "execution_count": 4,
     "metadata": {},
     "output_type": "execute_result"
    }
   ],
   "source": [
    "submission_1"
   ]
  },
  {
   "cell_type": "code",
   "execution_count": 5,
   "id": "7b15c6b6",
   "metadata": {
    "execution": {
     "iopub.execute_input": "2024-08-05T05:48:17.518286Z",
     "iopub.status.busy": "2024-08-05T05:48:17.517996Z",
     "iopub.status.idle": "2024-08-05T05:53:30.413687Z",
     "shell.execute_reply": "2024-08-05T05:53:30.412576Z"
    },
    "papermill": {
     "duration": 312.904988,
     "end_time": "2024-08-05T05:53:30.416306",
     "exception": false,
     "start_time": "2024-08-05T05:48:17.511318",
     "status": "completed"
    },
    "tags": []
   },
   "outputs": [
    {
     "name": "stdout",
     "output_type": "stream",
     "text": [
      "/opt/conda/lib/python3.10/site-packages/IPython/core/interactiveshell.py:2649: UserWarning: You executed the system command !pip which may not work as expected. Try the IPython magic %pip instead.\r\n",
      "  warnings.warn(\r\n",
      "2024-08-05 05:49:25.977732: E external/local_xla/xla/stream_executor/cuda/cuda_dnn.cc:9261] Unable to register cuDNN factory: Attempting to register factory for plugin cuDNN when one has already been registered\r\n",
      "2024-08-05 05:49:25.977790: E external/local_xla/xla/stream_executor/cuda/cuda_fft.cc:607] Unable to register cuFFT factory: Attempting to register factory for plugin cuFFT when one has already been registered\r\n",
      "2024-08-05 05:49:25.979267: E external/local_xla/xla/stream_executor/cuda/cuda_blas.cc:1515] Unable to register cuBLAS factory: Attempting to register factory for plugin cuBLAS when one has already been registered\r\n",
      "\u001b[22;0t\u001b]0;IPython: kaggle/working\u0007Map:   0%|          | 0/3 [00:00<?, ? examples/s]\r\n",
      "CPU times: user 543 ms, sys: 79.1 ms, total: 622 ms\r\n",
      "Wall time: 770 ms\r\n",
      "<|begin_of_text|><prompt>: I have three oranges today, I ate an orange yesterday. How many oranges do I have?\r\n",
      "\r\n",
      "<response_a>: You have two oranges today.\r\n",
      "\r\n",
      "<response_b>: You still have three oranges. Eating an orange yesterday does not affect the number of oranges you have today.\r\n",
      "\r\n",
      "---------\r\n",
      "Which is the better response for the prompt? a or b or tie?\r\n",
      "\r\n",
      "Answer: <|reserved_special_token_242|><|eot_id|>\r\n",
      "Loading checkpoint shards:   0%|          | 0/4 [00:00<?, ?it/s]\r\n",
      "Loading checkpoint shards:   0%|          | 0/4 [00:00<?, ?it/s]\r\n",
      "elapsed time: 4.510115623474121\r\n",
      "        id  winner_model_a  winner_model_b  winner_tie\r\n",
      "2  1233961        0.106284        0.657455    0.236261\r\n",
      "0   136060        0.016231        0.910743    0.073027\r\n",
      "1   211333        0.360373        0.280659    0.358968\r\n",
      "\u001b[23;0t"
     ]
    }
   ],
   "source": [
    "!ipython /kaggle/input/llama3-1-8b-inference-notebook/Llama3.1-base2-inference.ipynb"
   ]
  },
  {
   "cell_type": "code",
   "execution_count": 6,
   "id": "31e09000",
   "metadata": {
    "execution": {
     "iopub.execute_input": "2024-08-05T05:53:30.431641Z",
     "iopub.status.busy": "2024-08-05T05:53:30.430960Z",
     "iopub.status.idle": "2024-08-05T05:53:30.470288Z",
     "shell.execute_reply": "2024-08-05T05:53:30.469193Z"
    },
    "papermill": {
     "duration": 0.04945,
     "end_time": "2024-08-05T05:53:30.472483",
     "exception": false,
     "start_time": "2024-08-05T05:53:30.423033",
     "status": "completed"
    },
    "tags": []
   },
   "outputs": [
    {
     "name": "stdout",
     "output_type": "stream",
     "text": [
      "norm_1 0.5027352297592999\n",
      "norm_2 0.4972647702407002\n"
     ]
    }
   ],
   "source": [
    "submission_2 = pd.read_csv('/kaggle/working/submission.csv')\n",
    "\n",
    "# 損失値\n",
    "loss_1 = 0.909  # submission_1 の損失\n",
    "loss_2 = 0.919  # submission_2 の損失\n",
    "\n",
    "# 重みの計算\n",
    "weight_1 = 1 / loss_1\n",
    "weight_2 = 1 / loss_2\n",
    "\n",
    "# 重みの正規化\n",
    "total_weight = weight_1 + weight_2\n",
    "norm_weight_1 = weight_1 / total_weight\n",
    "norm_weight_2 = weight_2 / total_weight\n",
    "\n",
    "print('norm_1', norm_weight_1)\n",
    "print('norm_2', norm_weight_2)\n",
    "\n",
    "\n",
    "submission = pd.DataFrame()\n",
    "data = submission_2.merge(submission_1, on='id', how='left')\n",
    "submission['id'] = data['id']\n",
    "# 加重平均の計算\n",
    "submission['winner_model_a'] = (data['winner_model_a_x'] * norm_weight_2 + data['winner_model_a_y'] * norm_weight_1)\n",
    "submission['winner_model_b'] = (data['winner_model_b_x'] * norm_weight_2 + data['winner_model_b_y'] * norm_weight_1)\n",
    "submission['winner_tie'] = (data['winner_tie_x'] * norm_weight_2 + data['winner_tie_y'] * norm_weight_1)\n",
    "# submission.to_csv('submission.csv', index=False)\n",
    "# display(submission)\n"
   ]
  },
  {
   "cell_type": "code",
   "execution_count": 7,
   "id": "925bed40",
   "metadata": {
    "execution": {
     "iopub.execute_input": "2024-08-05T05:53:30.487737Z",
     "iopub.status.busy": "2024-08-05T05:53:30.487050Z",
     "iopub.status.idle": "2024-08-05T05:53:30.491782Z",
     "shell.execute_reply": "2024-08-05T05:53:30.490997Z"
    },
    "papermill": {
     "duration": 0.014386,
     "end_time": "2024-08-05T05:53:30.493661",
     "exception": false,
     "start_time": "2024-08-05T05:53:30.479275",
     "status": "completed"
    },
    "tags": []
   },
   "outputs": [],
   "source": [
    "# import pandas as pd\n",
    "# from langdetect import detect\n",
    "# from tqdm import tqdm\n",
    "# import time\n",
    "\n",
    "# test = pd.read_csv('/kaggle/input/lmsys-chatbot-arena/test.csv')\n",
    "# # 言語を検出し、ラベルを追加する関数\n",
    "# def label_language(text):\n",
    "#     try:\n",
    "#         lang = detect(text)\n",
    "#         if lang == 'en':\n",
    "#             return 'English'\n",
    "#         else:\n",
    "#             return 'Other'\n",
    "#     except:\n",
    "#         return 'Unknown'\n"
   ]
  },
  {
   "cell_type": "code",
   "execution_count": 8,
   "id": "c97c6d45",
   "metadata": {
    "execution": {
     "iopub.execute_input": "2024-08-05T05:53:30.508190Z",
     "iopub.status.busy": "2024-08-05T05:53:30.507647Z",
     "iopub.status.idle": "2024-08-05T05:53:30.512406Z",
     "shell.execute_reply": "2024-08-05T05:53:30.511590Z"
    },
    "papermill": {
     "duration": 0.014208,
     "end_time": "2024-08-05T05:53:30.514343",
     "exception": false,
     "start_time": "2024-08-05T05:53:30.500135",
     "status": "completed"
    },
    "tags": []
   },
   "outputs": [],
   "source": [
    "# %%time\n",
    "# test['language'] = test['prompt'].apply(label_language)\n",
    "\n",
    "# other_language_ids = test[test['language'] == 'Other']['id'].tolist()\n",
    "\n",
    "# # submission データフレームを効率的に更新\n",
    "# mask = submission['id'].isin(other_language_ids)\n",
    "# columns_to_update = ['winner_model_a', 'winner_model_b', 'winner_tie']\n",
    "\n",
    "# for test_id in other_language_ids:\n",
    "#     #英語以外の言語が格納されている場合、Gemma2の予測のみを利用する\n",
    "#     submission.loc[submission['id'] == test_id, columns_to_update] = submission_1[submission_1['id']==test_id][columns_to_update]"
   ]
  },
  {
   "cell_type": "code",
   "execution_count": 9,
   "id": "163ab4fa",
   "metadata": {
    "execution": {
     "iopub.execute_input": "2024-08-05T05:53:30.528945Z",
     "iopub.status.busy": "2024-08-05T05:53:30.528335Z",
     "iopub.status.idle": "2024-08-05T05:53:30.542807Z",
     "shell.execute_reply": "2024-08-05T05:53:30.541925Z"
    },
    "papermill": {
     "duration": 0.023701,
     "end_time": "2024-08-05T05:53:30.544647",
     "exception": false,
     "start_time": "2024-08-05T05:53:30.520946",
     "status": "completed"
    },
    "tags": []
   },
   "outputs": [
    {
     "data": {
      "text/html": [
       "<div>\n",
       "<style scoped>\n",
       "    .dataframe tbody tr th:only-of-type {\n",
       "        vertical-align: middle;\n",
       "    }\n",
       "\n",
       "    .dataframe tbody tr th {\n",
       "        vertical-align: top;\n",
       "    }\n",
       "\n",
       "    .dataframe thead th {\n",
       "        text-align: right;\n",
       "    }\n",
       "</style>\n",
       "<table border=\"1\" class=\"dataframe\">\n",
       "  <thead>\n",
       "    <tr style=\"text-align: right;\">\n",
       "      <th></th>\n",
       "      <th>id</th>\n",
       "      <th>winner_model_a</th>\n",
       "      <th>winner_model_b</th>\n",
       "      <th>winner_tie</th>\n",
       "    </tr>\n",
       "  </thead>\n",
       "  <tbody>\n",
       "    <tr>\n",
       "      <th>0</th>\n",
       "      <td>1233961</td>\n",
       "      <td>0.104938</td>\n",
       "      <td>0.674972</td>\n",
       "      <td>0.220090</td>\n",
       "    </tr>\n",
       "    <tr>\n",
       "      <th>1</th>\n",
       "      <td>136060</td>\n",
       "      <td>0.009114</td>\n",
       "      <td>0.939879</td>\n",
       "      <td>0.051007</td>\n",
       "    </tr>\n",
       "    <tr>\n",
       "      <th>2</th>\n",
       "      <td>211333</td>\n",
       "      <td>0.299506</td>\n",
       "      <td>0.345801</td>\n",
       "      <td>0.354693</td>\n",
       "    </tr>\n",
       "  </tbody>\n",
       "</table>\n",
       "</div>"
      ],
      "text/plain": [
       "        id  winner_model_a  winner_model_b  winner_tie\n",
       "0  1233961        0.104938        0.674972    0.220090\n",
       "1   136060        0.009114        0.939879    0.051007\n",
       "2   211333        0.299506        0.345801    0.354693"
      ]
     },
     "metadata": {},
     "output_type": "display_data"
    }
   ],
   "source": [
    "submission.to_csv('submission.csv', index=False)\n",
    "display(submission)"
   ]
  }
 ],
 "metadata": {
  "kaggle": {
   "accelerator": "nvidiaTeslaT4",
   "dataSources": [
    {
     "databundleVersionId": 8346466,
     "sourceId": 66631,
     "sourceType": "competition"
    },
    {
     "datasetId": 5299906,
     "sourceId": 8811121,
     "sourceType": "datasetVersion"
    },
    {
     "datasetId": 5394875,
     "sourceId": 8962985,
     "sourceType": "datasetVersion"
    },
    {
     "datasetId": 5441601,
     "sourceId": 9028693,
     "sourceType": "datasetVersion"
    },
    {
     "datasetId": 5460435,
     "sourceId": 9055900,
     "sourceType": "datasetVersion"
    },
    {
     "datasetId": 5477763,
     "sourceId": 9079757,
     "sourceType": "datasetVersion"
    },
    {
     "datasetId": 5496570,
     "sourceId": 9107689,
     "sourceType": "datasetVersion"
    },
    {
     "datasetId": 5496724,
     "sourceId": 9107762,
     "sourceType": "datasetVersion"
    },
    {
     "datasetId": 5371191,
     "sourceId": 8929028,
     "sourceType": "datasetVersion"
    },
    {
     "sourceId": 148861315,
     "sourceType": "kernelVersion"
    },
    {
     "sourceId": 191230244,
     "sourceType": "kernelVersion"
    },
    {
     "modelId": 39106,
     "modelInstanceId": 28083,
     "sourceId": 33551,
     "sourceType": "modelInstanceVersion"
    }
   ],
   "dockerImageVersionId": 30747,
   "isGpuEnabled": true,
   "isInternetEnabled": false,
   "language": "python",
   "sourceType": "notebook"
  },
  "kernelspec": {
   "display_name": "Python 3",
   "language": "python",
   "name": "python3"
  },
  "language_info": {
   "codemirror_mode": {
    "name": "ipython",
    "version": 3
   },
   "file_extension": ".py",
   "mimetype": "text/x-python",
   "name": "python",
   "nbconvert_exporter": "python",
   "pygments_lexer": "ipython3",
   "version": "3.10.13"
  },
  "papermill": {
   "default_parameters": {},
   "duration": 512.515162,
   "end_time": "2024-08-05T05:53:30.871878",
   "environment_variables": {},
   "exception": null,
   "input_path": "__notebook__.ipynb",
   "output_path": "__notebook__.ipynb",
   "parameters": {},
   "start_time": "2024-08-05T05:44:58.356716",
   "version": "2.5.0"
  }
 },
 "nbformat": 4,
 "nbformat_minor": 5
}
